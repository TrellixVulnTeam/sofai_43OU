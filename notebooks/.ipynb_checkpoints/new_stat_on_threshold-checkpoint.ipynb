{
 "cells": [
  {
   "cell_type": "code",
   "execution_count": 1,
   "metadata": {},
   "outputs": [],
   "source": [
    "import numpy as np\n",
    "\n",
    "import matplotlib.pyplot as plt\n",
    "from matplotlib.backends.backend_agg import FigureCanvas\n",
    "from scipy.spatial import distance\n",
    "import random\n",
    "import pickle\n",
    "from scipy import stats\n",
    "\n",
    "import bokeh\n",
    "\n",
    "\n",
    "# allow us to re-use the framework from the src directory\n",
    "import sys, os\n",
    "sys.path.append(os.path.abspath(os.path.join('../')))\n",
    "\n",
    "import max_ent.examples.grid_9_by_9 as G\n",
    "from max_ent.utility.support import *\n",
    "from max_ent.gridworld import Directions\n",
    "\n",
    "\n",
    "random.seed(123)\n",
    "np.random.seed(123)"
   ]
  },
  {
   "cell_type": "code",
   "execution_count": 89,
   "metadata": {},
   "outputs": [],
   "source": [
    "def compute_mean(target = None):\n",
    "\n",
    "    df = pd.DataFrame()\n",
    "\n",
    "    if target: \n",
    "\n",
    "        for i in range(0, len(target.time_stat)):\n",
    "            #print(f\"Stat: {mca.trajectory_stat[i]}\")\n",
    "            mask_1 = np.array(target.trajectory_stat[i]) == 1\n",
    "            mask_2 = np.array(target.trajectory_stat[i]) == 0\n",
    "            \n",
    "            #Creaty np array from time array\n",
    "            selected = np.array(target.time_stat[i])\n",
    "            #Select actions in trajectory based on which system computed them\n",
    "            selected_1= selected[mask_1]\n",
    "            selected_2= selected[mask_2]\n",
    "            #Compute total time per solver\n",
    "            time_s1 = np.sum(selected_1)\n",
    "            time_s2 = np.sum(selected_2)\n",
    "            \n",
    "            #Creaty np array from trajectory array\n",
    "            selected = np.array(target.trajectory_stat[i])\n",
    "            #Select builder in trajectory based on which system computed them\n",
    "            selected_1= selected[mask_1]\n",
    "            selected_2= selected[mask_2]\n",
    "            #Compute total time per solver\n",
    "            usage_s1 = np.sum(selected_1)\n",
    "            usage_s2 = len(target.trajectory_stat[i]) - np.sum(selected_1)\n",
    "            \n",
    "            #Creaty np array from trajectory array\n",
    "            selected = np.array(target.action_reward[i])\n",
    "            #Select builder in trajectory based on which system computed them\n",
    "            selected_1= selected[mask_1]\n",
    "            selected_2= selected[mask_2]\n",
    "            #Compute total time per solver\n",
    "            reward_s1 = np.sum(selected_1)\n",
    "            reward_s2 = np.sum(selected_2)\n",
    "            \n",
    "\n",
    "            dict_mca = {}\n",
    "            dict_mca['traj_n'] = i\n",
    "            dict_mca['length'] = len(target.trajectory_stat[i])\n",
    "            dict_mca['reward'] = np.sum(target.action_reward[i])\n",
    "            dict_mca['time'] = np.sum(target.time_stat[i])\n",
    "            \n",
    "            dict_mca['sub_type'] = \"s1\"\n",
    "            dict_mca['time_agent'] = time_s1\n",
    "            dict_mca['avg_time'] = time_s1 / usage_s1\n",
    "            dict_mca['reward_agent'] = reward_s1\n",
    "            dict_mca['avg_reward'] = reward_s1 / usage_s1\n",
    "            dict_mca['usage']= usage_s1\n",
    "            dict_mca['perc_usage']= usage_s1 / len(target.trajectory_stat[i])\n",
    "            temp_df = pd.DataFrame(data=dict_mca, index=[i])\n",
    "            df = pd.concat([df, temp_df])\n",
    "            \n",
    "            \n",
    "            dict_mca = {}\n",
    "            dict_mca['traj_n'] = i\n",
    "            dict_mca['length'] = len(target.trajectory_stat[i])\n",
    "            dict_mca['reward'] = np.sum(target.action_reward[i])\n",
    "            dict_mca['time'] = np.sum(target.time_stat[i])\n",
    "            \n",
    "            dict_mca['sub_type'] = \"s2\"\n",
    "            dict_mca['time_agent'] = time_s2\n",
    "            dict_mca['avg_time'] = time_s2 / usage_s2\n",
    "            dict_mca['reward_agent'] = reward_s2\n",
    "            dict_mca['avg_reward'] = reward_s2 / usage_s2\n",
    "            dict_mca['usage']= usage_s2\n",
    "            dict_mca['perc_usage']= usage_s2 / len(target.trajectory_stat[i])\n",
    "            \n",
    "            temp_df = pd.DataFrame(data=dict_mca, index=[i])\n",
    "            df = pd.concat([df, temp_df])\n",
    "            \n",
    "    else:\n",
    "        dict_mca = {}\n",
    "        dict_mca['traj_n'] = 0\n",
    "        dict_mca['length'] = 0\n",
    "        dict_mca['reward'] = 0\n",
    "        dict_mca['time'] = 0\n",
    "\n",
    "        dict_mca['sub_type'] = \"null\"\n",
    "        dict_mca['time_agent'] = 0\n",
    "        dict_mca['avg_time'] = 0 \n",
    "        dict_mca['reward_agent'] = 0\n",
    "        dict_mca['avg_reward'] = 0 \n",
    "        dict_mca['usage']= 0\n",
    "            \n",
    "        temp_df = pd.DataFrame(data=dict_mca, index=[0])\n",
    "        df = pd.concat([df, temp_df])\n",
    "\n",
    "    \n",
    "    #print(dict_mca)\n",
    "    \n",
    "    return df"
   ]
  },
  {
   "cell_type": "code",
   "execution_count": 2,
   "metadata": {},
   "outputs": [],
   "source": [
    "\n",
    "n_trajectories = 200\n",
    "threshold1 = 200\n",
    "threshold2 = 0.5\n",
    "threshold3 = 0.5\n",
    "threshold4 = 0 #this one varies in [-1,1]\n",
    "threshold5 = 0 #means default w=[1,0]\n",
    "threshold7 = 0.9\n"
   ]
  },
  {
   "cell_type": "code",
   "execution_count": 3,
   "metadata": {},
   "outputs": [],
   "source": [
    "## Set the grid\n",
    "blue = [21,  9, 59,  1,  0, 20]\n",
    "green = [42, 18, 76, 41, 23, 30]\n",
    "cs = [63, 74, 13, 39, 48, 38]\n",
    "ca = [Directions.DOWN_LEFT, Directions.UP_LEFT]\n",
    "start =7\n",
    "goal = 65"
   ]
  },
  {
   "cell_type": "code",
   "execution_count": 4,
   "metadata": {
    "scrolled": true
   },
   "outputs": [
    {
     "name": "stdout",
     "output_type": "stream",
     "text": [
      "{'vmin': -50, 'vmax': 10, 'cmap': <matplotlib.colors.LinearSegmentedColormap object at 0x10e85df28>}\n"
     ]
    },
    {
     "data": {
      "image/png": "[encoded data removed]",
      "text/plain": [
       "<Figure size 324x216 with 4 Axes>"
      ]
     },
     "metadata": {
      "needs_background": "light"
     },
     "output_type": "display_data"
    }
   ],
   "source": [
    "#blue, green, cs, ca, start, goal = generate_constraints(9)\n",
    "n, n_cfg, demo_n, f1 = create_world('Nominal', blue, green, start=start, goal=goal)"
   ]
  },
  {
   "cell_type": "code",
   "execution_count": 5,
   "metadata": {
    "scrolled": true
   },
   "outputs": [
    {
     "name": "stdout",
     "output_type": "stream",
     "text": [
      "{'vmin': -50, 'vmax': 10, 'cmap': <matplotlib.colors.LinearSegmentedColormap object at 0x10e85df28>}\n"
     ]
    },
    {
     "data": {
      "image/png": "[encoded data removed]",
      "text/plain": [
       "<Figure size 324x216 with 4 Axes>"
      ]
     },
     "metadata": {
      "needs_background": "light"
     },
     "output_type": "display_data"
    }
   ],
   "source": [
    "cc = [1, 2]\n",
    "c, c_cfg, demo_c, f2 = create_world('Constrained', blue, green, cs, ca, cc, start=start, goal=goal, check=True)"
   ]
  },
  {
   "cell_type": "code",
   "execution_count": 6,
   "metadata": {},
   "outputs": [
    {
     "name": "stdout",
     "output_type": "stream",
     "text": [
      "threshold1: 200\n"
     ]
    },
    {
     "name": "stderr",
     "output_type": "stream",
     "text": [
      "/Users/aloreggia/Documents/GitHub/wmca/mc/self.py:252: RuntimeWarning: invalid value encountered in double_scalars\n",
      "  return self.part_reward[state_s_coord] / self.getNTrajectories(state_s)\n",
      "/Users/aloreggia/Documents/GitHub/wmca/mc/mca.py:153: RuntimeWarning: invalid value encountered in double_scalars\n",
      "  action_thresholds[1] = current_reward / expected_avg_reward\n",
      "/Users/aloreggia/Documents/GitHub/wmca/mc/mca.py:161: RuntimeWarning: invalid value encountered in double_scalars\n",
      "  if (current_reward / expected_avg_reward < self.threshold2):\n",
      "/Users/aloreggia/Documents/GitHub/wmca/mc/mca.py:153: RuntimeWarning: divide by zero encountered in double_scalars\n",
      "  action_thresholds[1] = current_reward / expected_avg_reward\n",
      "/Users/aloreggia/Documents/GitHub/wmca/mc/mca.py:161: RuntimeWarning: divide by zero encountered in double_scalars\n",
      "  if (current_reward / expected_avg_reward < self.threshold2):\n",
      "/Users/aloreggia/Documents/GitHub/wmca/mc/mca.py:227: RuntimeWarning: invalid value encountered in double_scalars\n",
      "  x = np.abs(current_length - expected_avg_length) / max_diff_len\n"
     ]
    },
    {
     "name": "stdout",
     "output_type": "stream",
     "text": [
      "{'vmin': -50, 'vmax': 10, 'cmap': <matplotlib.colors.LinearSegmentedColormap object at 0x10e85df28>}\n"
     ]
    },
    {
     "data": {
      "image/png": "[encoded data removed]",
      "text/plain": [
       "<Figure size 324x216 with 4 Axes>"
      ]
     },
     "metadata": {
      "needs_background": "light"
     },
     "output_type": "display_data"
    }
   ],
   "source": [
    "from mc.mca import *\n",
    "from max_ent.algorithms.gridworld_icrl import Demonstration\n",
    "\n",
    "mca = MCA(n=n, c=c, demo=None, threshold1 = threshold1, threshold3 = threshold3, threshold4 = threshold4, threshold5 = 1)\n",
    "demo_mca = mca.generate_trajectories(n_trajectories)\n",
    "\n",
    "#mca = MCA(s1,s2,modelSelf, threshold1=threshold1, threshold2=threshold2, threshold3 = threshold3, threshold5 = threshold5, threshold7 = threshold7)\n",
    "#print(c)\n",
    "f1 = G.plot_world(f'MCA', c, c_cfg.state_penalties, \n",
    "              c_cfg.action_penalties, c_cfg.color_penalties, \n",
    "              demo_mca, c_cfg.blue, c_cfg.green, vmin=-50, vmax=10)\n"
   ]
  },
  {
   "cell_type": "code",
   "execution_count": 90,
   "metadata": {},
   "outputs": [
    {
     "name": "stdout",
     "output_type": "stream",
     "text": [
      "dict_keys(['s1', 's2', 'modelSelf', 'threshold1', 'threshold2', 'threshold3', 'threshold4', 'threshold5', 'threshold6', 'threshold7', 'usage_s1', 'usage_s2', 'time_usage_s2', 'w', 'trajectory_stat', 'thresholds_stat', 'thresholds_mask', 'time_stat', 'violations', 'action_reward', 'fixed_time_left', 'time_left', 'only_s1', 'only_s2', 'mixed'])\n"
     ]
    }
   ],
   "source": [
    "print(mca.__dict__.keys())\n",
    "\n",
    "mca.__dict__['action_reward']\n",
    "\n",
    "average_stat = compute_mean(mca)"
   ]
  },
  {
   "cell_type": "code",
   "execution_count": 177,
   "metadata": {},
   "outputs": [
    {
     "data": {
      "text/html": [
       "<div>\n",
       "<style scoped>\n",
       "    .dataframe tbody tr th:only-of-type {\n",
       "        vertical-align: middle;\n",
       "    }\n",
       "\n",
       "    .dataframe tbody tr th {\n",
       "        vertical-align: top;\n",
       "    }\n",
       "\n",
       "    .dataframe thead th {\n",
       "        text-align: right;\n",
       "    }\n",
       "</style>\n",
       "<table border=\"1\" class=\"dataframe\">\n",
       "  <thead>\n",
       "    <tr style=\"text-align: right;\">\n",
       "      <th></th>\n",
       "      <th>traj_n</th>\n",
       "      <th>length</th>\n",
       "      <th>reward</th>\n",
       "      <th>time</th>\n",
       "      <th>sub_type</th>\n",
       "      <th>time_agent</th>\n",
       "      <th>avg_time</th>\n",
       "      <th>reward_agent</th>\n",
       "      <th>avg_reward</th>\n",
       "      <th>usage</th>\n",
       "      <th>perc_usage</th>\n",
       "    </tr>\n",
       "  </thead>\n",
       "  <tbody>\n",
       "    <tr>\n",
       "      <th>0</th>\n",
       "      <td>0</td>\n",
       "      <td>19</td>\n",
       "      <td>-166.000000</td>\n",
       "      <td>315</td>\n",
       "      <td>s1</td>\n",
       "      <td>1</td>\n",
       "      <td>0.250000</td>\n",
       "      <td>-66.000000</td>\n",
       "      <td>-16.500000</td>\n",
       "      <td>4</td>\n",
       "      <td>0.210526</td>\n",
       "    </tr>\n",
       "    <tr>\n",
       "      <th>0</th>\n",
       "      <td>0</td>\n",
       "      <td>19</td>\n",
       "      <td>-166.000000</td>\n",
       "      <td>315</td>\n",
       "      <td>s2</td>\n",
       "      <td>314</td>\n",
       "      <td>20.933333</td>\n",
       "      <td>-100.000000</td>\n",
       "      <td>-6.666667</td>\n",
       "      <td>15</td>\n",
       "      <td>0.789474</td>\n",
       "    </tr>\n",
       "    <tr>\n",
       "      <th>1</th>\n",
       "      <td>1</td>\n",
       "      <td>27</td>\n",
       "      <td>-440.970563</td>\n",
       "      <td>324</td>\n",
       "      <td>s1</td>\n",
       "      <td>0</td>\n",
       "      <td>0.000000</td>\n",
       "      <td>-332.970563</td>\n",
       "      <td>-33.297056</td>\n",
       "      <td>10</td>\n",
       "      <td>0.370370</td>\n",
       "    </tr>\n",
       "    <tr>\n",
       "      <th>1</th>\n",
       "      <td>1</td>\n",
       "      <td>27</td>\n",
       "      <td>-440.970563</td>\n",
       "      <td>324</td>\n",
       "      <td>s2</td>\n",
       "      <td>324</td>\n",
       "      <td>19.058824</td>\n",
       "      <td>-108.000000</td>\n",
       "      <td>-6.352941</td>\n",
       "      <td>17</td>\n",
       "      <td>0.629630</td>\n",
       "    </tr>\n",
       "    <tr>\n",
       "      <th>2</th>\n",
       "      <td>2</td>\n",
       "      <td>19</td>\n",
       "      <td>-359.656854</td>\n",
       "      <td>208</td>\n",
       "      <td>s1</td>\n",
       "      <td>2</td>\n",
       "      <td>0.250000</td>\n",
       "      <td>-274.000000</td>\n",
       "      <td>-34.250000</td>\n",
       "      <td>8</td>\n",
       "      <td>0.421053</td>\n",
       "    </tr>\n",
       "    <tr>\n",
       "      <th>...</th>\n",
       "      <td>...</td>\n",
       "      <td>...</td>\n",
       "      <td>...</td>\n",
       "      <td>...</td>\n",
       "      <td>...</td>\n",
       "      <td>...</td>\n",
       "      <td>...</td>\n",
       "      <td>...</td>\n",
       "      <td>...</td>\n",
       "      <td>...</td>\n",
       "      <td>...</td>\n",
       "    </tr>\n",
       "    <tr>\n",
       "      <th>197</th>\n",
       "      <td>197</td>\n",
       "      <td>12</td>\n",
       "      <td>-135.656854</td>\n",
       "      <td>52</td>\n",
       "      <td>s2</td>\n",
       "      <td>48</td>\n",
       "      <td>16.000000</td>\n",
       "      <td>-2.000000</td>\n",
       "      <td>-0.666667</td>\n",
       "      <td>3</td>\n",
       "      <td>0.250000</td>\n",
       "    </tr>\n",
       "    <tr>\n",
       "      <th>198</th>\n",
       "      <td>198</td>\n",
       "      <td>11</td>\n",
       "      <td>-131.656854</td>\n",
       "      <td>53</td>\n",
       "      <td>s1</td>\n",
       "      <td>5</td>\n",
       "      <td>0.625000</td>\n",
       "      <td>-129.656854</td>\n",
       "      <td>-16.207107</td>\n",
       "      <td>8</td>\n",
       "      <td>0.727273</td>\n",
       "    </tr>\n",
       "    <tr>\n",
       "      <th>198</th>\n",
       "      <td>198</td>\n",
       "      <td>11</td>\n",
       "      <td>-131.656854</td>\n",
       "      <td>53</td>\n",
       "      <td>s2</td>\n",
       "      <td>48</td>\n",
       "      <td>16.000000</td>\n",
       "      <td>-2.000000</td>\n",
       "      <td>-0.666667</td>\n",
       "      <td>3</td>\n",
       "      <td>0.272727</td>\n",
       "    </tr>\n",
       "    <tr>\n",
       "      <th>199</th>\n",
       "      <td>199</td>\n",
       "      <td>13</td>\n",
       "      <td>-189.656854</td>\n",
       "      <td>87</td>\n",
       "      <td>s1</td>\n",
       "      <td>4</td>\n",
       "      <td>0.500000</td>\n",
       "      <td>-129.656854</td>\n",
       "      <td>-16.207107</td>\n",
       "      <td>8</td>\n",
       "      <td>0.615385</td>\n",
       "    </tr>\n",
       "    <tr>\n",
       "      <th>199</th>\n",
       "      <td>199</td>\n",
       "      <td>13</td>\n",
       "      <td>-189.656854</td>\n",
       "      <td>87</td>\n",
       "      <td>s2</td>\n",
       "      <td>83</td>\n",
       "      <td>16.600000</td>\n",
       "      <td>-60.000000</td>\n",
       "      <td>-12.000000</td>\n",
       "      <td>5</td>\n",
       "      <td>0.384615</td>\n",
       "    </tr>\n",
       "  </tbody>\n",
       "</table>\n",
       "<p>400 rows × 11 columns</p>\n",
       "</div>"
      ],
      "text/plain": [
       "     traj_n  length      reward  time sub_type  time_agent   avg_time  \\\n",
       "0         0      19 -166.000000   315       s1           1   0.250000   \n",
       "0         0      19 -166.000000   315       s2         314  20.933333   \n",
       "1         1      27 -440.970563   324       s1           0   0.000000   \n",
       "1         1      27 -440.970563   324       s2         324  19.058824   \n",
       "2         2      19 -359.656854   208       s1           2   0.250000   \n",
       "..      ...     ...         ...   ...      ...         ...        ...   \n",
       "197     197      12 -135.656854    52       s2          48  16.000000   \n",
       "198     198      11 -131.656854    53       s1           5   0.625000   \n",
       "198     198      11 -131.656854    53       s2          48  16.000000   \n",
       "199     199      13 -189.656854    87       s1           4   0.500000   \n",
       "199     199      13 -189.656854    87       s2          83  16.600000   \n",
       "\n",
       "     reward_agent  avg_reward  usage  perc_usage  \n",
       "0      -66.000000  -16.500000      4    0.210526  \n",
       "0     -100.000000   -6.666667     15    0.789474  \n",
       "1     -332.970563  -33.297056     10    0.370370  \n",
       "1     -108.000000   -6.352941     17    0.629630  \n",
       "2     -274.000000  -34.250000      8    0.421053  \n",
       "..            ...         ...    ...         ...  \n",
       "197     -2.000000   -0.666667      3    0.250000  \n",
       "198   -129.656854  -16.207107      8    0.727273  \n",
       "198     -2.000000   -0.666667      3    0.272727  \n",
       "199   -129.656854  -16.207107      8    0.615385  \n",
       "199    -60.000000  -12.000000      5    0.384615  \n",
       "\n",
       "[400 rows x 11 columns]"
      ]
     },
     "execution_count": 177,
     "metadata": {},
     "output_type": "execute_result"
    }
   ],
   "source": [
    "average_stat#.loc[average_stat['sub_type']=='s1'].length[0]\n",
    "average_stat.loc[average_stat['sub_type']=='s2'].reward_agent[0]\n",
    "average_stat.loc[average_stat['sub_type']=='s1'].reward_agent[0]\n",
    "average_stat.reward\n",
    "average_stat"
   ]
  },
  {
   "cell_type": "code",
   "execution_count": 77,
   "metadata": {},
   "outputs": [
    {
     "name": "stdout",
     "output_type": "stream",
     "text": [
      "[52, 17, 18, 17, 0, 18, 0, 18, 0, 20, 18, 17, 26, 20, 18, 21, 1, 17, 17]\n"
     ]
    }
   ],
   "source": [
    "from bokeh.plotting import figure, show\n",
    "\n",
    "x_traj = [x for x in range(n_trajectories)]\n",
    "y_action = mca.__dict__['action_reward']\n",
    "y_time = mca.__dict__['time_stat']\n",
    "\n",
    "y_mean_action = [np.mean(m) for m in y_action]\n",
    "y_mean_time = [np.mean(m) for m in y_time]\n",
    "print(y_time[0])"
   ]
  },
  {
   "cell_type": "code",
   "execution_count": 13,
   "metadata": {},
   "outputs": [],
   "source": [
    "from bokeh.layouts import row\n",
    "\n",
    "s1 = figure(title=\"Simple line example\", x_axis_label='x', y_axis_label='y')\n",
    "s1.line([x for x in range(len(y[1]))], y[1], line_width=2)\n",
    "\n",
    "s2 = figure(title=\"Simple line example\", x_axis_label='x', y_axis_label='y')\n",
    "s2.line(x, y_mean, line_width=2)\n",
    "\n",
    "show(row(s1,s2))"
   ]
  },
  {
   "cell_type": "code",
   "execution_count": 181,
   "metadata": {},
   "outputs": [],
   "source": [
    "max_x = np.max([len(t) for t in y_action])\n",
    "min_y_action = np.min([min(t) for t in y_action]) - 5\n",
    "max_y_action = np.max([max(t) for t in y_action]) + 5\n",
    "\n",
    "min_y_time = np.min([min(t) for t in y_time]) - 5\n",
    "max_y_time = np.max([max(t) for t in y_time]) + 5\n",
    "\n",
    "min_y_reward = np.min(average_stat.reward)"
   ]
  },
  {
   "cell_type": "code",
   "execution_count": null,
   "metadata": {},
   "outputs": [],
   "source": []
  },
  {
   "cell_type": "code",
   "execution_count": 188,
   "metadata": {},
   "outputs": [
    {
     "ename": "SyntaxError",
     "evalue": "invalid syntax (3216062668.py, line 89)",
     "output_type": "error",
     "traceback": [
      "\u001b[0;36m  File \u001b[0;32m\"/var/folders/s3/4rklnw7j5hgc9pjv8n2c2_200000gn/T/ipykernel_76584/3216062668.py\"\u001b[0;36m, line \u001b[0;32m89\u001b[0m\n\u001b[0;31m    \"\"\")\u001b[0m\n\u001b[0m        \n^\u001b[0m\n\u001b[0;31mSyntaxError\u001b[0m\u001b[0;31m:\u001b[0m invalid syntax\n"
     ]
    }
   ],
   "source": [
    "print(bokeh.__version__)\n",
    "from bokeh.models import Div, CustomJS, Slider, RadioGroup\n",
    "from bokeh.layouts import layout, gridplot\n",
    "from bokeh.plotting import ColumnDataSource\n",
    "\n",
    "df_action = dict(x = [xi for xi in range(max_x)], y=y_action[0])\n",
    "df_time = dict(x = [xi for xi in range(max_x)], y=y_time[0])\n",
    "df_length = dict(x=[0], top=[average_stat.loc[average_stat['sub_type']=='s2'].length[0]])\n",
    "\n",
    "systems_type = [\"S1\", \"S2\"]\n",
    "colors = [\"blue\", \"orange\"]\n",
    "\n",
    "df_reward = dict(x=[0], S2=[average_stat.loc[average_stat['sub_type']=='s2'].reward_agent[0]], S1=[average_stat.loc[average_stat['sub_type']=='s1'].reward_agent[0]])\n",
    "df_time_agent = dict(x=[0], S2=[average_stat.loc[average_stat['sub_type']=='s2'].time_agent[0]], S1=[average_stat.loc[average_stat['sub_type']=='s1'].time_agent[0]])\n",
    "\n",
    "\n",
    "source = ColumnDataSource(data=df_action)\n",
    "source_time = ColumnDataSource(data=df_time)\n",
    "source_length = ColumnDataSource(data=df_length)\n",
    "source_reward = ColumnDataSource(data=df_reward)\n",
    "source_time_agent = ColumnDataSource(data=df_time_agent)\n",
    "\n",
    "\n",
    "avg_plot = figure(title=\"Avg. action reward per trajectory\", x_range=(0,n_trajectories), width=400, height=250)\n",
    "avg_plot.circle(x_traj, average_stat.loc[average_stat['sub_type']=='s1'].avg_reward, color='orange', fill_alpha=0.6, line_width=2, line_alpha=0.6, legend_label=\"S1\")\n",
    "avg_plot.circle(x_traj, average_stat.loc[average_stat['sub_type']=='s2'].avg_reward, color='blue', fill_alpha=0.6, line_width=2, line_alpha=0.6, legend_label=\"S2\")\n",
    "\n",
    "avg_plot_time = figure(title=\"Avg. action time per trajectory\",x_range=(0,n_trajectories), width=400, height=250)\n",
    "avg_plot_time.circle(x_traj, average_stat.loc[average_stat['sub_type']=='s1'].avg_time, color='orange', fill_alpha=0.6, line_width=2, line_alpha=0.6, legend_label=\"S1\")\n",
    "avg_plot_time.circle(x_traj, average_stat.loc[average_stat['sub_type']=='s2'].avg_time, color='blue', fill_alpha=0.6, line_width=2, line_alpha=0.6, legend_label=\"S2\")\n",
    "\n",
    "avg_plot_usage = figure(title=\"Frac. use times per trajectory\",x_range=(0,n_trajectories), width=400, height=250)\n",
    "avg_plot_usage.circle(x_traj, average_stat.loc[average_stat['sub_type']=='s1'].perc_usage, color='orange', fill_alpha=0.6, line_width=2, line_alpha=0.6, legend_label=\"S1\")\n",
    "avg_plot_usage.circle(x_traj, average_stat.loc[average_stat['sub_type']=='s2'].perc_usage, color='blue', fill_alpha=0.6, line_width=2, line_alpha=0.6, legend_label=\"S2\")\n",
    "\n",
    "\n",
    "p = figure(x_range=(0,max_x), y_range=(min_y_action,max_y_action),width=350, height=250)\n",
    "p.line('x', 'y', source=source, line_width=3, line_alpha=0.6)\n",
    "slider = Slider(start=0, end=n_trajectories, value=0, step=1, title=\"Select a trajectory\")\n",
    "callback = CustomJS(args=dict(source=source, source_time=source_time, \n",
    "                              source_length=source_length, \n",
    "                              source_reward=source_reward,\n",
    "                              source_time_agent=source_time_agent, \n",
    "                              slider=slider, \n",
    "                              new_data=y_action, \n",
    "                              new_data_time=y_time, \n",
    "                              df_length = average_stat.loc[average_stat['sub_type']=='s2'].length,  \n",
    "                              df_reward_s2 = average_stat.loc[average_stat['sub_type']=='s2'].reward_agent ,  \n",
    "                              df_reward_s1 = average_stat.loc[average_stat['sub_type']=='s1'].reward_agent,\n",
    "                              df_time_s2 = average_stat.loc[average_stat['sub_type']=='s2'].time_agent ,  \n",
    "                              df_time_s1 = average_stat.loc[average_stat['sub_type']=='s1'].time_agent),\n",
    "                    code=\"\"\"\n",
    "    const data = source.data;\n",
    "    const data_time = source_time.data;\n",
    "    const data_length = source_length.data;\n",
    "    const data_reward = source_reward.data;\n",
    "    const data_time_agent = source_time_agent.data;\n",
    "    \n",
    "    const x = data['x']\n",
    "    const y = data['y']\n",
    "    const y_time = data_time['y']\n",
    "    const y_length = data_length['top']\n",
    "    \n",
    "    const y_reward_s1 = data_reward['S1']\n",
    "    const y_reward_s2 = data_reward['S2']\n",
    "    \n",
    "    const y_time_s1 = data_time_agent['S1']\n",
    "    const y_time_s2 = data_time_agent['S2']\n",
    "\n",
    "    for (let i = 0; i < x.length; i++) {\n",
    "        y[i] = new_data[slider.value][i]\n",
    "        y_time[i] = new_data_time[slider.value][i]\n",
    "    }\n",
    "    y_length[0] = df_length[slider.value] \n",
    "    \n",
    "    console.log('data_reward: ' + df_reward_s1[slider.value])\n",
    "\n",
    "    y_reward_s1[0] = df_reward_s1[slider.value] \n",
    "    y_reward_s2[0] = df_reward_s2[slider.value] \n",
    "    \n",
    "    y_time_s1[0] = df_time_s1[slider.value] \n",
    "    y_time_s2[0] = df_time_s2[slider.value] \n",
    "    \n",
    "    source.change.emit();\n",
    "    source_time.change.emit();\n",
    "    source_length.change.emit();\n",
    "    source_reward.change.emit();\n",
    "    source_time_agent.change.emit();\n",
    "\"\"\")\n",
    "\n",
    "slider.js_on_change('value', callback)\n",
    "\n",
    "p_time = figure(x_range=(0,max_x), y_range=(min_y_time,max_y_time),width=350, height=250)\n",
    "p_time.line('x', 'y', source=source_time, line_width=3, line_alpha=0.6)\n",
    "\n",
    "tot_reward = figure(height=250, width=150, title=\"Total Reward\", toolbar_location=None, tools=\"\", y_range=(min_y_reward,0))\n",
    "tot_reward.vbar_stack(systems_type, width=0.9, legend_label=systems_type, color=colors, source=source_reward)\n",
    "tot_reward.xgrid.grid_line_color = None\n",
    "\n",
    "tot_time = figure(height=250, width=150, title=\"Total Time\", toolbar_location=None, tools=\"\", y_range=(0,max_y_time))\n",
    "tot_time.vbar_stack(systems_type, width=0.9, legend_label=systems_type, color=colors, source=source_time_agent)\n",
    "tot_time.xgrid.grid_line_color = None\n",
    "\n",
    "tot_length = figure(height=250, width=150, title=\"Total Length\", toolbar_location=None, tools=\"\", y_range=(0,max_x))\n",
    "tot_length.vbar(source=source_length, width=0.9)\n",
    "tot_length.xgrid.grid_line_color = None\n",
    "tot_length.y_range.start = 0\n",
    "\n",
    "#l = layout([[p, [p_time, tot_length]], slider, [avg_plot, avg_plot_time]])\n",
    "#l = layout([[p, p_time], slider, [avg_plot, avg_plot_time]])\n",
    "row1 = row(p, tot_reward, p_time, tot_time, tot_length)\n",
    "row3 = row(avg_plot, avg_plot_time, avg_plot_usage)\n",
    "l = layout([row1, slider, row3 ])\n",
    "\n",
    "show(l)\n",
    "\n",
    "#show(p)"
   ]
  },
  {
   "cell_type": "code",
   "execution_count": 170,
   "metadata": {},
   "outputs": [
    {
     "data": {
      "text/plain": [
       "0      -66.000000\n",
       "1     -332.970563\n",
       "2     -274.000000\n",
       "3      -20.000000\n",
       "4      -20.000000\n",
       "          ...    \n",
       "195   -129.656854\n",
       "196   -133.656854\n",
       "197   -133.656854\n",
       "198   -129.656854\n",
       "199   -129.656854\n",
       "Name: reward_agent, Length: 200, dtype: float64"
      ]
     },
     "execution_count": 170,
     "metadata": {},
     "output_type": "execute_result"
    }
   ],
   "source": [
    "average_stat.loc[average_stat['sub_type']=='s1'].reward_agent"
   ]
  },
  {
   "cell_type": "code",
   "execution_count": null,
   "metadata": {},
   "outputs": [],
   "source": []
  },
  {
   "cell_type": "code",
   "execution_count": null,
   "metadata": {},
   "outputs": [],
   "source": []
  }
 ],
 "metadata": {
  "kernelspec": {
   "display_name": "Python 3 (ipykernel)",
   "language": "python",
   "name": "python3"
  },
  "language_info": {
   "codemirror_mode": {
    "name": "ipython",
    "version": 3
   },
   "file_extension": ".py",
   "mimetype": "text/x-python",
   "name": "python",
   "nbconvert_exporter": "python",
   "pygments_lexer": "ipython3",
   "version": "3.7.3"
  }
 },
 "nbformat": 4,
 "nbformat_minor": 2
}

{
 "cells": [
  {
   "cell_type": "code",
   "execution_count": null,
   "metadata": {},
   "outputs": [],
   "source": [
    "# Installation of MDFT_nn needed\n",
    "!pip install git+https://github.com/Rahgooy/MDFT.git@master"
   ]
  },
  {
   "cell_type": "code",
   "execution_count": 3,
   "metadata": {},
   "outputs": [],
   "source": [
    "import numpy as np\n",
    "\n",
    "import matplotlib.pyplot as plt\n",
    "from matplotlib.backends.backend_agg import FigureCanvas\n",
    "from scipy.spatial import distance\n",
    "import random\n",
    "random.seed(123)\n",
    "\n",
    "import pickle\n",
    "from scipy import stats\n",
    "\n",
    "import bokeh\n",
    "\n",
    "\n",
    "# allow us to re-use the framework from the src directory\n",
    "import sys, os\n",
    "sys.path.append(os.path.abspath(os.path.join('../')))\n",
    "\n",
    "import max_ent.examples.grid_9_by_9 as G\n",
    "from max_ent.utility.support import *\n",
    "from max_ent.gridworld import Directions\n",
    "\n",
    "\n",
    "\n",
    "np.random.seed(123)"
   ]
  },
  {
   "cell_type": "markdown",
   "metadata": {},
   "source": [
    "Set of constraints"
   ]
  },
  {
   "cell_type": "code",
   "execution_count": 128,
   "metadata": {},
   "outputs": [],
   "source": [
    "## Set the grid\n",
    "blue = [21,  9, 59,  1,  0, 20]\n",
    "green = [42, 18, 76, 41, 23, 30]\n",
    "#cs = [63, 74, 13, 39, 48, 38]\n",
    "cs = [74, 13, 39, 48, 38]\n",
    "ca = [Directions.DOWN_LEFT, Directions.UP_LEFT]\n",
    "start =16\n",
    "goal = 63\n",
    "constraints = {'blue': blue, 'green': green, 'cs':cs, 'ca':ca}"
   ]
  },
  {
   "cell_type": "markdown",
   "metadata": {},
   "source": [
    "To generate random trajectories, you can use functions in max_ent/algorithms/gridworld_icrl.py there you can find procedures to generate random, optimal, and weighted trajectroies.\n"
   ]
  },
  {
   "cell_type": "markdown",
   "metadata": {},
   "source": [
    "Generate nominal trajectories and plot them in the grid"
   ]
  },
  {
   "cell_type": "code",
   "execution_count": 129,
   "metadata": {
    "scrolled": true
   },
   "outputs": [
    {
     "name": "stdout",
     "output_type": "stream",
     "text": [
      "[0.962 0.062 0.062 0.962 0.962 0.062 0.962 0.963]\n",
      "{'vmin': -50, 'vmax': 10, 'cmap': <matplotlib.colors.LinearSegmentedColormap object at 0x1103bf400>}\n"
     ]
    },
    {
     "data": {
      "image/png": "[encoded data removed]",
      "text/plain": [
       "<Figure size 324x216 with 3 Axes>"
      ]
     },
     "metadata": {
      "needs_background": "light"
     },
     "output_type": "display_data"
    }
   ],
   "source": [
    "#blue, green, cs, ca, start, goal = generate_constraints(9)\n",
    "n, n_cfg, demo_n, f1 = create_world('Nominal', blue, green, start=start, goal=goal)"
   ]
  },
  {
   "cell_type": "markdown",
   "metadata": {},
   "source": [
    "Generate constrained trajectories and plot them in the grid. \n",
    "It is possible to change the set of constraints and generate a new set of trajectories with the following:\n",
    "    \n",
    "n_cfg = G.config_world(blue, green, cs, ca, cc, goal, start=start)\n",
    "\n",
    "n = n_cfg.mdp\n",
    "\n",
    "demo = G.generate_trajectories(n.world, n.reward, n.start, n.terminal, n_trajectories=1)"
   ]
  },
  {
   "cell_type": "code",
   "execution_count": 130,
   "metadata": {},
   "outputs": [
    {
     "name": "stdout",
     "output_type": "stream",
     "text": [
      "[0.962 0.062 0.062 0.962 0.962 0.062 0.962 0.963]\n",
      "Warning: terminated trajectory generation due to unreachable final state.\n",
      "Warning: terminated trajectory generation due to unreachable final state.\n",
      "Warning: terminated trajectory generation due to unreachable final state.\n",
      "Warning: terminated trajectory generation due to unreachable final state.\n",
      "Warning: terminated trajectory generation due to unreachable final state.\n",
      "Warning: terminated trajectory generation due to unreachable final state.\n",
      "Warning: terminated trajectory generation due to unreachable final state.\n",
      "Warning: terminated trajectory generation due to unreachable final state.\n",
      "Warning: terminated trajectory generation due to unreachable final state.\n",
      "Warning: terminated trajectory generation due to unreachable final state.\n",
      "Warning: terminated trajectory generation due to unreachable final state.\n",
      "Warning: terminated trajectory generation due to unreachable final state.\n",
      "Warning: terminated trajectory generation due to unreachable final state.\n",
      "Warning: terminated trajectory generation due to unreachable final state.\n",
      "Warning: terminated trajectory generation due to unreachable final state.\n",
      "Warning: terminated trajectory generation due to unreachable final state.\n",
      "Warning: terminated trajectory generation due to unreachable final state.\n",
      "Warning: terminated trajectory generation due to unreachable final state.\n",
      "Warning: terminated trajectory generation due to unreachable final state.\n",
      "Warning: terminated trajectory generation due to unreachable final state.\n",
      "Warning: terminated trajectory generation due to unreachable final state.\n",
      "Warning: terminated trajectory generation due to unreachable final state.\n",
      "Warning: terminated trajectory generation due to unreachable final state.\n",
      "Warning: terminated trajectory generation due to unreachable final state.\n",
      "Warning: terminated trajectory generation due to unreachable final state.\n",
      "Warning: terminated trajectory generation due to unreachable final state.\n",
      "Warning: terminated trajectory generation due to unreachable final state.\n",
      "Warning: terminated trajectory generation due to unreachable final state.\n",
      "Warning: terminated trajectory generation due to unreachable final state.\n",
      "Warning: terminated trajectory generation due to unreachable final state.\n",
      "Warning: terminated trajectory generation due to unreachable final state.\n",
      "Warning: terminated trajectory generation due to unreachable final state.\n",
      "Warning: terminated trajectory generation due to unreachable final state.\n",
      "Warning: terminated trajectory generation due to unreachable final state.\n",
      "Warning: terminated trajectory generation due to unreachable final state.\n",
      "Warning: terminated trajectory generation due to unreachable final state.\n",
      "Warning: terminated trajectory generation due to unreachable final state.\n",
      "Warning: terminated trajectory generation due to unreachable final state.\n",
      "Warning: terminated trajectory generation due to unreachable final state.\n",
      "Warning: terminated trajectory generation due to unreachable final state.\n",
      "Warning: terminated trajectory generation due to unreachable final state.\n",
      "Warning: terminated trajectory generation due to unreachable final state.\n",
      "Warning: terminated trajectory generation due to unreachable final state.\n",
      "Warning: terminated trajectory generation due to unreachable final state.\n",
      "Warning: terminated trajectory generation due to unreachable final state.\n",
      "Warning: terminated trajectory generation due to unreachable final state.\n",
      "Warning: terminated trajectory generation due to unreachable final state.\n",
      "Warning: terminated trajectory generation due to unreachable final state.\n",
      "Warning: terminated trajectory generation due to unreachable final state.\n",
      "Warning: terminated trajectory generation due to unreachable final state.\n",
      "Warning: terminated trajectory generation due to unreachable final state.\n",
      "Warning: terminated trajectory generation due to unreachable final state.\n",
      "Warning: terminated trajectory generation due to unreachable final state.\n",
      "Warning: terminated trajectory generation due to unreachable final state.\n",
      "Warning: terminated trajectory generation due to unreachable final state.\n",
      "Warning: terminated trajectory generation due to unreachable final state.\n",
      "Warning: terminated trajectory generation due to unreachable final state.\n",
      "Warning: terminated trajectory generation due to unreachable final state.\n",
      "Warning: terminated trajectory generation due to unreachable final state.\n",
      "Warning: terminated trajectory generation due to unreachable final state.\n",
      "Warning: terminated trajectory generation due to unreachable final state.\n",
      "Warning: terminated trajectory generation due to unreachable final state.\n",
      "Warning: terminated trajectory generation due to unreachable final state.\n",
      "Warning: terminated trajectory generation due to unreachable final state.\n",
      "Warning: terminated trajectory generation due to unreachable final state.\n",
      "Warning: terminated trajectory generation due to unreachable final state.\n",
      "Warning: terminated trajectory generation due to unreachable final state.\n",
      "Warning: terminated trajectory generation due to unreachable final state.\n",
      "Warning: terminated trajectory generation due to unreachable final state.\n",
      "Warning: terminated trajectory generation due to unreachable final state.\n",
      "Warning: terminated trajectory generation due to unreachable final state.\n",
      "Warning: terminated trajectory generation due to unreachable final state.\n",
      "Warning: terminated trajectory generation due to unreachable final state.\n",
      "Warning: terminated trajectory generation due to unreachable final state.\n",
      "Warning: terminated trajectory generation due to unreachable final state.\n",
      "Warning: terminated trajectory generation due to unreachable final state.\n",
      "Warning: terminated trajectory generation due to unreachable final state.\n",
      "Warning: terminated trajectory generation due to unreachable final state.\n",
      "Warning: terminated trajectory generation due to unreachable final state.\n",
      "Warning: terminated trajectory generation due to unreachable final state.\n",
      "Warning: terminated trajectory generation due to unreachable final state.\n",
      "Warning: terminated trajectory generation due to unreachable final state.\n",
      "Warning: terminated trajectory generation due to unreachable final state.\n",
      "Warning: terminated trajectory generation due to unreachable final state.\n",
      "Warning: terminated trajectory generation due to unreachable final state.\n",
      "Warning: terminated trajectory generation due to unreachable final state.\n",
      "Warning: terminated trajectory generation due to unreachable final state.\n",
      "Warning: terminated trajectory generation due to unreachable final state.\n",
      "Warning: terminated trajectory generation due to unreachable final state.\n",
      "Warning: terminated trajectory generation due to unreachable final state.\n",
      "Warning: terminated trajectory generation due to unreachable final state.\n",
      "Warning: terminated trajectory generation due to unreachable final state.\n",
      "Warning: terminated trajectory generation due to unreachable final state.\n",
      "Warning: terminated trajectory generation due to unreachable final state.\n",
      "Warning: terminated trajectory generation due to unreachable final state.\n",
      "Warning: terminated trajectory generation due to unreachable final state.\n",
      "Warning: terminated trajectory generation due to unreachable final state.\n",
      "Warning: terminated trajectory generation due to unreachable final state.\n",
      "Warning: terminated trajectory generation due to unreachable final state.\n",
      "Warning: terminated trajectory generation due to unreachable final state.\n",
      "Warning: terminated trajectory generation due to unreachable final state.\n",
      "Warning: terminated trajectory generation due to unreachable final state.\n",
      "Warning: terminated trajectory generation due to unreachable final state.\n",
      "Warning: terminated trajectory generation due to unreachable final state.\n",
      "Warning: terminated trajectory generation due to unreachable final state.\n",
      "Warning: terminated trajectory generation due to unreachable final state.\n",
      "Warning: terminated trajectory generation due to unreachable final state.\n",
      "Warning: terminated trajectory generation due to unreachable final state.\n",
      "Warning: terminated trajectory generation due to unreachable final state.\n",
      "Warning: terminated trajectory generation due to unreachable final state.\n",
      "Warning: terminated trajectory generation due to unreachable final state.\n",
      "Warning: terminated trajectory generation due to unreachable final state.\n",
      "Warning: terminated trajectory generation due to unreachable final state.\n",
      "Warning: terminated trajectory generation due to unreachable final state.\n"
     ]
    },
    {
     "name": "stdout",
     "output_type": "stream",
     "text": [
      "Warning: terminated trajectory generation due to unreachable final state.\n",
      "Warning: terminated trajectory generation due to unreachable final state.\n",
      "Warning: terminated trajectory generation due to unreachable final state.\n",
      "Warning: terminated trajectory generation due to unreachable final state.\n",
      "Warning: terminated trajectory generation due to unreachable final state.\n",
      "Warning: terminated trajectory generation due to unreachable final state.\n",
      "Warning: terminated trajectory generation due to unreachable final state.\n",
      "Warning: terminated trajectory generation due to unreachable final state.\n",
      "Warning: terminated trajectory generation due to unreachable final state.\n",
      "Warning: terminated trajectory generation due to unreachable final state.\n",
      "Warning: terminated trajectory generation due to unreachable final state.\n",
      "Warning: terminated trajectory generation due to unreachable final state.\n",
      "Warning: terminated trajectory generation due to unreachable final state.\n",
      "Warning: terminated trajectory generation due to unreachable final state.\n",
      "Warning: terminated trajectory generation due to unreachable final state.\n",
      "Warning: terminated trajectory generation due to unreachable final state.\n",
      "Warning: terminated trajectory generation due to unreachable final state.\n",
      "Warning: terminated trajectory generation due to unreachable final state.\n",
      "Warning: terminated trajectory generation due to unreachable final state.\n",
      "Warning: terminated trajectory generation due to unreachable final state.\n",
      "Warning: terminated trajectory generation due to unreachable final state.\n",
      "Warning: terminated trajectory generation due to unreachable final state.\n",
      "Warning: terminated trajectory generation due to unreachable final state.\n",
      "Warning: terminated trajectory generation due to unreachable final state.\n",
      "Warning: terminated trajectory generation due to unreachable final state.\n",
      "Warning: terminated trajectory generation due to unreachable final state.\n",
      "Warning: terminated trajectory generation due to unreachable final state.\n",
      "Warning: terminated trajectory generation due to unreachable final state.\n",
      "Warning: terminated trajectory generation due to unreachable final state.\n",
      "Warning: terminated trajectory generation due to unreachable final state.\n",
      "Warning: terminated trajectory generation due to unreachable final state.\n",
      "Warning: terminated trajectory generation due to unreachable final state.\n",
      "Warning: terminated trajectory generation due to unreachable final state.\n",
      "Warning: terminated trajectory generation due to unreachable final state.\n",
      "Warning: terminated trajectory generation due to unreachable final state.\n",
      "Warning: terminated trajectory generation due to unreachable final state.\n",
      "Warning: terminated trajectory generation due to unreachable final state.\n",
      "Warning: terminated trajectory generation due to unreachable final state.\n",
      "Warning: terminated trajectory generation due to unreachable final state.\n",
      "Warning: terminated trajectory generation due to unreachable final state.\n",
      "Warning: terminated trajectory generation due to unreachable final state.\n",
      "Warning: terminated trajectory generation due to unreachable final state.\n",
      "Warning: terminated trajectory generation due to unreachable final state.\n",
      "Warning: terminated trajectory generation due to unreachable final state.\n",
      "Warning: terminated trajectory generation due to unreachable final state.\n",
      "Warning: terminated trajectory generation due to unreachable final state.\n",
      "Warning: terminated trajectory generation due to unreachable final state.\n",
      "Warning: terminated trajectory generation due to unreachable final state.\n",
      "Warning: terminated trajectory generation due to unreachable final state.\n",
      "Warning: terminated trajectory generation due to unreachable final state.\n",
      "Warning: terminated trajectory generation due to unreachable final state.\n",
      "Warning: terminated trajectory generation due to unreachable final state.\n",
      "Warning: terminated trajectory generation due to unreachable final state.\n",
      "Warning: terminated trajectory generation due to unreachable final state.\n",
      "Warning: terminated trajectory generation due to unreachable final state.\n",
      "Warning: terminated trajectory generation due to unreachable final state.\n",
      "Warning: terminated trajectory generation due to unreachable final state.\n",
      "Warning: terminated trajectory generation due to unreachable final state.\n",
      "Warning: terminated trajectory generation due to unreachable final state.\n",
      "Warning: terminated trajectory generation due to unreachable final state.\n",
      "Warning: terminated trajectory generation due to unreachable final state.\n",
      "Warning: terminated trajectory generation due to unreachable final state.\n",
      "Warning: terminated trajectory generation due to unreachable final state.\n",
      "Warning: terminated trajectory generation due to unreachable final state.\n",
      "Warning: terminated trajectory generation due to unreachable final state.\n",
      "Warning: terminated trajectory generation due to unreachable final state.\n",
      "Warning: terminated trajectory generation due to unreachable final state.\n",
      "Warning: terminated trajectory generation due to unreachable final state.\n",
      "Warning: terminated trajectory generation due to unreachable final state.\n",
      "Warning: terminated trajectory generation due to unreachable final state.\n",
      "Warning: terminated trajectory generation due to unreachable final state.\n",
      "Warning: terminated trajectory generation due to unreachable final state.\n",
      "Warning: terminated trajectory generation due to unreachable final state.\n",
      "Warning: terminated trajectory generation due to unreachable final state.\n",
      "Warning: terminated trajectory generation due to unreachable final state.\n",
      "Warning: terminated trajectory generation due to unreachable final state.\n",
      "Warning: terminated trajectory generation due to unreachable final state.\n",
      "Warning: terminated trajectory generation due to unreachable final state.\n",
      "Warning: terminated trajectory generation due to unreachable final state.\n",
      "Warning: terminated trajectory generation due to unreachable final state.\n",
      "Warning: terminated trajectory generation due to unreachable final state.\n",
      "Warning: terminated trajectory generation due to unreachable final state.\n",
      "Warning: terminated trajectory generation due to unreachable final state.\n",
      "Warning: terminated trajectory generation due to unreachable final state.\n",
      "Warning: terminated trajectory generation due to unreachable final state.\n",
      "Warning: terminated trajectory generation due to unreachable final state.\n",
      "{'vmin': -50, 'vmax': 10, 'cmap': <matplotlib.colors.LinearSegmentedColormap object at 0x1103bf400>}\n"
     ]
    },
    {
     "data": {
      "image/png": "[encoded data removed]",
      "text/plain": [
       "<Figure size 324x216 with 3 Axes>"
      ]
     },
     "metadata": {
      "needs_background": "light"
     },
     "output_type": "display_data"
    }
   ],
   "source": [
    "cc = [1, 2]\n",
    "c, c_cfg, demo_c, f2 = create_world('Constrained', blue, green, cs, ca, cc, start=start, goal=goal, check=True)"
   ]
  },
  {
   "cell_type": "markdown",
   "metadata": {},
   "source": [
    "When you generate a set of trajectories, those are stored in a tuple (i.e., demo_c in this case) where the first element is the set of trajectories and the second element is the policy used to generate the trajectory.\n",
    "\n",
    "The grid world is an object having functions to compute coords in the grid given the number of the state and vice-versa. You can find the code in max_ent/gridworld/gridworld.py (e.g., state_point_to_index(self, state)). Looking at the code it is possible to see that the first element of the trajectories list is the bottom-left state in the grid.\n",
    "\n",
    "The list of the actions are stored in the class Directions that is in max_ent/gridworld/gridworld.py "
   ]
  },
  {
   "cell_type": "code",
   "execution_count": 5,
   "metadata": {},
   "outputs": [
    {
     "data": {
      "text/plain": [
       "array([[7.59928542e-02, 1.04839966e-01, 5.20621257e-01, 7.59928542e-02,\n",
       "        1.71067049e-02, 1.71232955e-01, 1.71067049e-02, 1.71067049e-02],\n",
       "       [5.36229004e-02, 8.16202664e-02, 5.36749053e-01, 7.39783115e-02,\n",
       "        8.26976271e-02, 1.38025417e-01, 1.66532124e-02, 1.66532124e-02],\n",
       "       [6.62955632e-02, 6.45972892e-02, 5.49471928e-01, 7.31438907e-02,\n",
       "        1.08279177e-01, 1.05281399e-01, 1.64653765e-02, 1.64653765e-02],\n",
       "       [8.39788812e-02, 5.25197247e-02, 5.36970053e-01, 7.41662498e-02,\n",
       "        1.42013995e-01, 7.69600581e-02, 1.66955191e-02, 1.66955191e-02],\n",
       "       [1.08881066e-01, 4.46185770e-02, 5.01900725e-01, 7.71025045e-02,\n",
       "        1.77455604e-01, 5.53285286e-02, 1.73564976e-02, 1.73564976e-02],\n",
       "       [1.41702804e-01, 4.00565827e-02, 4.51715998e-01, 8.20022323e-02,\n",
       "        2.07644958e-01, 3.99584796e-02, 1.84594723e-02, 1.84594723e-02],\n",
       "       [1.82077115e-01, 3.88893997e-02, 3.94135030e-01, 8.89413228e-02,\n",
       "        2.25781716e-01, 3.01323635e-02, 2.00215268e-02, 2.00215268e-02],\n",
       "       [2.24116070e-01, 4.50767637e-02, 3.37294302e-01, 9.79942635e-02,\n",
       "        2.23567185e-01, 2.78325591e-02, 2.20594287e-02, 2.20594287e-02],\n",
       "       [2.34347643e-01, 1.07798487e-01, 2.95678312e-01, 1.07798487e-01,\n",
       "        1.81577716e-01, 2.42664515e-02, 2.42664515e-02, 2.42664515e-02],\n",
       "       [5.78582587e-02, 8.45351261e-02, 5.98278249e-01, 8.44532211e-03,\n",
       "        1.30244372e-02, 2.22211378e-01, 1.30244372e-02, 2.62279254e-03],\n",
       "       [3.70713440e-02, 6.18734526e-02, 6.32478339e-01, 7.46523193e-03,\n",
       "        8.62918528e-02, 1.71747592e-01, 1.21809960e-03, 1.85408870e-03],\n",
       "       [4.65934118e-02, 4.53034436e-02, 6.56313569e-01, 7.08518564e-03,\n",
       "        1.22476735e-01, 1.19373466e-01, 1.44561035e-03, 1.40857857e-03],\n",
       "       [6.37687935e-02, 3.45575100e-02, 6.35336360e-01, 7.49681827e-03,\n",
       "        1.77008656e-01, 7.87259262e-02, 1.91088414e-03, 1.19505175e-03],\n",
       "       [9.01012703e-02, 2.80924953e-02, 5.80542950e-01, 8.81258440e-03,\n",
       "        2.37414644e-01, 5.10866136e-02, 2.80143645e-03, 1.14800592e-03],\n",
       "       [1.27857102e-01, 2.46043798e-02, 5.05808052e-01, 1.13663952e-02,\n",
       "        2.91272977e-01, 3.34197300e-02, 4.42149490e-03, 1.24986924e-03],\n",
       "       [1.78840647e-01, 2.38677050e-02, 4.24046043e-01, 1.58589583e-02,\n",
       "        3.25224333e-01, 2.32929767e-02, 7.30836188e-03, 1.56097490e-03],\n",
       "       [2.37866588e-01, 2.96127354e-02, 3.50226271e-01, 2.34703544e-02,\n",
       "        3.23090329e-01, 2.12200904e-02, 1.20833012e-02, 2.43033046e-03],\n",
       "       [2.58168386e-01, 9.46353927e-02, 3.01251129e-01, 3.45021997e-02,\n",
       "        2.51951757e-01, 2.13033154e-02, 1.68845044e-02, 2.13033154e-02],\n",
       "       [4.34244015e-02, 7.16478745e-02, 5.93358326e-01, 4.19948454e-03,\n",
       "        9.77524046e-03, 2.66438217e-01, 9.77524046e-03, 1.38121549e-03],\n",
       "       [2.40422084e-02, 4.78514629e-02, 6.55304916e-01, 3.39710014e-03,\n",
       "        7.39522114e-02, 1.94055138e-01, 5.23395652e-04, 8.73566819e-04],\n",
       "       [3.20465489e-02, 3.12345657e-02, 6.96416381e-01, 3.13501744e-03,\n",
       "        1.19172067e-01, 1.16776947e-01, 6.17787897e-04, 6.00684048e-04],\n",
       "       [4.91117177e-02, 2.18428044e-02, 6.59046373e-01, 3.39004104e-03,\n",
       "        1.99165931e-01, 6.60606882e-02, 8.96573781e-04, 4.85870215e-04],\n",
       "       [7.75260152e-02, 1.66819600e-02, 5.73335735e-01, 4.21683098e-03,\n",
       "        2.89847199e-01, 3.64364727e-02, 1.49093287e-03, 4.64854984e-04],\n",
       "       [1.22372617e-01, 1.40406428e-02, 4.64150737e-01, 5.92161555e-03,\n",
       "        3.70099879e-01, 2.01686366e-02, 2.72205018e-03, 5.23821948e-04],\n",
       "       [1.89548657e-01, 1.35757137e-02, 3.55009720e-01, 9.22034973e-03,\n",
       "        4.14009173e-01, 1.26495625e-02, 5.28191159e-03, 7.04913059e-04],\n",
       "       [2.73635213e-01, 1.79719522e-02, 2.76381890e-01, 1.54017345e-02,\n",
       "        3.93062431e-01, 1.20672136e-02, 1.02086587e-02, 1.27090699e-03],\n",
       "       [3.06614783e-01, 8.25273672e-02, 2.46159232e-01, 2.59252466e-02,\n",
       "        2.85697161e-01, 1.85776852e-02, 1.59208399e-02, 1.85776852e-02],\n",
       "       [3.16834124e-02, 6.32001079e-02, 5.49463982e-01, 2.31872237e-03,\n",
       "        7.13223360e-03, 3.38208092e-01, 7.13223360e-03, 8.61215483e-04],\n",
       "       [1.40104155e-02, 3.67641896e-02, 6.64369141e-01, 1.69175429e-03,\n",
       "        5.46955385e-02, 2.27778756e-01, 2.30813616e-04, 4.59390792e-04],\n",
       "       [2.04433947e-02, 2.00325234e-02, 7.40177261e-01, 1.49281094e-03,\n",
       "        1.09400470e-01, 1.07903442e-01, 2.78578133e-04, 2.71519627e-04],\n",
       "       [3.74619956e-02, 1.24256453e-02, 6.67715518e-01, 1.68018615e-03,\n",
       "        2.32102131e-01, 4.79382187e-02, 4.68110299e-04, 2.08195563e-04],\n",
       "       [6.90581952e-02, 8.68125361e-03, 5.27009045e-01, 2.28879896e-03,\n",
       "        3.71975950e-01, 1.98493366e-02, 9.36010659e-04, 2.01409711e-04],\n",
       "       [1.26719482e-01, 6.90559313e-03, 3.63368304e-01, 3.68707059e-03,\n",
       "        4.88884570e-01, 8.06814337e-03, 2.12322446e-03, 2.43611985e-04],\n",
       "       [2.27405252e-01, 6.94809957e-03, 2.27826056e-01, 6.87904951e-03,\n",
       "        5.19952945e-01, 5.33480732e-03, 5.27592305e-03, 3.77868260e-04],\n",
       "       [3.53062868e-01, 1.08392070e-02, 1.90613123e-01, 1.35012653e-02,\n",
       "        4.12500676e-01, 6.20965208e-03, 1.24551714e-02, 8.18037062e-04],\n",
       "       [3.75642892e-01, 7.28582921e-02, 1.85419385e-01, 2.44264779e-02,\n",
       "        2.88421666e-01, 1.64010856e-02, 2.04291151e-02, 1.64010856e-02],\n",
       "       [2.25265142e-02, 6.15949563e-02, 4.27513456e-01, 1.29893290e-03,\n",
       "        5.07092984e-03, 4.76341015e-01, 5.07092984e-03, 5.83265370e-04],\n",
       "       [6.85650593e-03, 2.85538170e-02, 6.44070240e-01, 7.88644805e-04,\n",
       "        2.92922181e-02, 2.90116033e-01, 8.89998318e-05, 2.33541017e-04],\n",
       "       [1.16003452e-02, 1.14416068e-02, 7.97434503e-01, 6.41928207e-04,\n",
       "        8.97105957e-02, 8.89535330e-02, 1.09847950e-04, 1.07640225e-04],\n",
       "       [2.88559144e-02, 5.95988124e-03, 6.45391683e-01, 7.80970737e-04,\n",
       "        2.93185441e-01, 2.55118153e-02, 2.36011865e-04, 7.82819941e-05],\n",
       "       [6.66944976e-02, 3.55894388e-03, 4.04479922e-01, 1.24113061e-03,\n",
       "        5.18520805e-01, 4.79837672e-03, 6.27447774e-04, 7.88759863e-05],\n",
       "       [1.57660959e-01, 2.60190503e-03, 1.57993085e-01, 2.59709921e-03,\n",
       "        6.74882118e-01, 2.08113324e-03, 2.07084903e-03, 1.12851162e-04],\n",
       "       [3.62744865e-01, 3.72182517e-03, 1.27130299e-01, 6.89374503e-03,\n",
       "        4.89073886e-01, 2.15032153e-03, 8.03942403e-03, 2.45635131e-04],\n",
       "       [4.62103456e-01, 6.95635632e-03, 1.23371482e-01, 1.40929483e-02,\n",
       "        3.69613361e-01, 3.20448985e-03, 2.00425886e-02, 6.15317515e-04],\n",
       "       [4.53177605e-01, 6.55827016e-02, 1.34206261e-01, 2.57699249e-02,\n",
       "        2.61827871e-01, 1.47632819e-02, 2.99090728e-02, 1.47632819e-02],\n",
       "       [1.57557204e-02, 7.79853176e-02, 9.10012978e-02, 8.30199502e-04,\n",
       "        3.54676057e-03, 8.06822936e-01, 3.54676057e-03, 5.11007453e-04],\n",
       "       [2.37323726e-03, 2.35050203e-02, 5.39867922e-01, 3.41929461e-04,\n",
       "        3.08563171e-03, 4.30680879e-01, 2.81500371e-05, 1.17230411e-04],\n",
       "       [5.38924793e-03, 5.34376837e-03, 8.77757212e-01, 2.38923629e-04,\n",
       "        5.57562497e-02, 5.54444544e-02, 3.53136455e-05, 3.48304158e-05],\n",
       "       [2.35949368e-02, 2.05313629e-03, 5.38902590e-01, 3.38540644e-04,\n",
       "        4.32328413e-01, 2.64039940e-03, 1.17678866e-04, 2.43053141e-05],\n",
       "       [8.05759694e-02, 7.45647719e-04, 8.08329012e-02, 7.44080255e-04,\n",
       "        8.36018769e-01, 5.29416783e-04, 5.25190151e-04, 2.80251347e-05],\n",
       "       [4.03594124e-01, 1.24456275e-03, 6.70840081e-02, 3.55114991e-03,\n",
       "        5.19035043e-01, 6.34460114e-04, 4.77780361e-03, 7.88488875e-05],\n",
       "       [5.25438311e-01, 2.31020577e-03, 6.96279891e-02, 8.65316725e-03,\n",
       "        3.73066065e-01, 9.53064163e-04, 1.97485743e-02, 2.02623795e-04],\n",
       "       [5.70507119e-01, 4.94620721e-03, 7.85596724e-02, 1.67019804e-02,\n",
       "        2.90836288e-01, 1.76032704e-03, 3.61443016e-02, 5.44104654e-04],\n",
       "       [5.24550276e-01, 6.05253946e-02, 9.56896740e-02, 2.95770024e-02,\n",
       "        2.16400667e-01, 1.36248346e-02, 4.60073164e-02, 1.36248346e-02],\n",
       "       [1.33277548e-02, 5.24921105e-01, 2.74620105e-02, 2.30753167e-03,\n",
       "        3.00020272e-03, 4.23410111e-01, 3.00020272e-03, 2.57108160e-03],\n",
       "       [1.68728592e-04, 2.35505028e-02, 2.38121882e-02, 1.44595221e-04,\n",
       "        7.82632044e-05, 9.52174014e-01, 6.57616903e-06, 6.51317037e-05],\n",
       "       [1.56212201e-03, 1.55338644e-03, 9.94287419e-01, 6.80123933e-05,\n",
       "        1.26003364e-03, 1.25378845e-03, 7.65132723e-06, 7.58675810e-06],\n",
       "       [2.35542003e-02, 1.43854751e-04, 2.36978861e-02, 1.43397501e-04,\n",
       "        9.52323507e-01, 6.63443264e-05, 6.51419295e-05, 5.66838812e-06],\n",
       "       [5.37252743e-01, 3.40220375e-04, 2.39568857e-02, 2.04685063e-03,\n",
       "        4.33634068e-01, 1.21002115e-04, 2.62394887e-03, 2.42819479e-05],\n",
       "       [6.42051341e-01, 7.84833265e-04, 2.95137723e-02, 5.92263930e-03,\n",
       "        2.96107452e-01, 2.42843490e-04, 2.52991033e-02, 7.80148168e-05],\n",
       "       [6.63603645e-01, 1.69529451e-03, 3.83226853e-02, 1.23113750e-02,\n",
       "        2.36015978e-01, 4.80573204e-04, 4.73622109e-02, 2.08238438e-04],\n",
       "       [6.54836219e-01, 3.96348719e-03, 5.01415966e-02, 2.17269870e-02,\n",
       "        2.02619741e-01, 1.05491041e-03, 6.50927145e-02, 5.64343622e-04],\n",
       "       [5.77595290e-01, 5.74941596e-02, 6.79779776e-02, 3.63660629e-02,\n",
       "        1.63733686e-01, 1.29424751e-02, 7.09478736e-02, 1.29424751e-02],\n",
       "       [1.24492393e-02, 8.52664348e-01, 6.75866203e-03, 6.04181579e-03,\n",
       "        2.80244065e-03, 6.29139542e-02, 2.80244065e-03, 5.35670993e-02],\n",
       "       [8.16817050e-05, 9.93764535e-01, 1.83372984e-03, 1.56130050e-03,\n",
       "        9.98243098e-06, 1.49431588e-03, 8.92366105e-06, 1.24553108e-03],\n",
       "       [2.25056574e-01, 2.23941110e-01, 2.67042524e-01, 2.22583302e-01,\n",
       "        1.66058297e-02, 1.65500241e-02, 1.41387732e-02, 1.40597076e-02],\n",
       "       [9.93794011e-01, 6.92334000e-05, 1.82762161e-03, 1.55261559e-03,\n",
       "        1.49436020e-03, 8.98291639e-06, 1.24556802e-03, 7.60717305e-06],\n",
       "       [8.69346511e-01, 2.42584184e-04, 6.23162884e-03, 5.27724816e-03,\n",
       "        6.42477201e-02, 3.95119411e-05, 5.45802321e-02, 3.45634476e-05],\n",
       "       [7.86681087e-01, 6.45172486e-04, 1.27714433e-02, 1.11719419e-02,\n",
       "        1.02070539e-01, 1.15830445e-04, 8.64383255e-02, 1.05660823e-04],\n",
       "       [7.33199811e-01, 1.49293359e-03, 2.13738993e-02, 1.94973247e-02,\n",
       "        1.19423069e-01, 2.79614009e-04, 1.04466469e-01, 2.66878330e-04],\n",
       "       [6.93936040e-01, 3.61287772e-03, 3.21628319e-02, 3.06978999e-02,\n",
       "        1.24585164e-01, 6.70422153e-04, 1.13646900e-01, 6.87863652e-04],\n",
       "       [6.03253830e-01, 5.63798476e-02, 4.64756404e-02, 4.76847366e-02,\n",
       "        1.12984410e-01, 1.26916330e-02, 1.07838269e-01, 1.26916330e-02],\n",
       "       [1.34646684e-02, 5.56786000e-01, 1.34646684e-02, 2.48014887e-02,\n",
       "        3.03102327e-03, 3.03102327e-03, 3.03102327e-03, 3.82390105e-01],\n",
       "       [1.85807094e-04, 2.78143161e-02, 7.68342638e-03, 2.34411905e-02,\n",
       "        1.72961141e-03, 1.72961141e-03, 7.70438514e-05, 9.37338993e-01],\n",
       "       [1.81635614e-03, 1.81025208e-03, 6.57528311e-03, 9.84349097e-01,\n",
       "        1.48015796e-03, 1.48015796e-03, 1.24743908e-03, 1.24125630e-03],\n",
       "       [2.78194343e-02, 1.67228525e-04, 7.65901455e-03, 2.33292994e-02,\n",
       "        1.72411608e-03, 1.72411608e-03, 9.37511479e-01, 6.53124355e-05],\n",
       "       [5.69465099e-01, 3.50217431e-04, 1.24338201e-02, 2.15723019e-02,\n",
       "        2.79896963e-03, 2.79896963e-03, 3.90471664e-01, 1.08957992e-04],\n",
       "       [6.79445403e-01, 7.71039952e-04, 1.91376119e-02, 2.64493783e-02,\n",
       "        4.30805612e-03, 4.30805612e-03, 2.65362826e-01, 2.17629223e-04],\n",
       "       [7.02723325e-01, 1.64533777e-03, 2.83121928e-02, 3.54993360e-02,\n",
       "        6.37334041e-03, 6.37334041e-03, 2.18627960e-01, 4.45167907e-04],\n",
       "       [6.92889529e-01, 3.72860198e-03, 4.02666554e-02, 4.83972551e-02,\n",
       "        9.06440217e-03, 9.06440217e-03, 1.95570942e-01, 1.01821185e-03],\n",
       "       [6.13262367e-01, 5.67867197e-02, 5.67867197e-02, 6.88882729e-02,\n",
       "        1.27832237e-02, 1.27832237e-02, 1.65926249e-01, 1.27832237e-02]])"
      ]
     },
     "execution_count": 5,
     "metadata": {},
     "output_type": "execute_result"
    }
   ],
   "source": [
    "demo_n.policy"
   ]
  },
  {
   "cell_type": "markdown",
   "metadata": {},
   "source": [
    "The following code generates an empty set of trajetories so it is possible to plot the constrained grid re-using the existing code. It also saves to pickle files the two sets of policies."
   ]
  },
  {
   "cell_type": "code",
   "execution_count": 6,
   "metadata": {},
   "outputs": [
    {
     "name": "stdout",
     "output_type": "stream",
     "text": [
      "{'vmin': -50, 'vmax': 10, 'cmap': <matplotlib.colors.LinearSegmentedColormap object at 0x10dbd8320>}\n"
     ]
    },
    {
     "data": {
      "image/png": "[encoded data removed]",
      "text/plain": [
       "<Figure size 324x216 with 3 Axes>"
      ]
     },
     "metadata": {
      "needs_background": "light"
     },
     "output_type": "display_data"
    }
   ],
   "source": [
    "from max_ent.algorithms.gridworld_icrl import Demonstration\n",
    "demo_test = Demonstration([], demo_c.policy)\n",
    "\n",
    "import pickle as pkl\n",
    "import numpy as np\n",
    "\n",
    "fileName = 'qvalues_constraints'\n",
    "fileObject = open(fileName, 'wb')\n",
    "pkl.dump(demo_c.policy, fileObject)\n",
    "fileObject.close()\n",
    "\n",
    "fileName = 'qvalues_nominal'\n",
    "fileObject = open(fileName, 'wb')\n",
    "pkl.dump(demo_n.policy, fileObject)\n",
    "fileObject.close()\n",
    "\n",
    "f1 = G.plot_world(f'MCA', c, c_cfg.state_penalties, \n",
    "              c_cfg.action_penalties, c_cfg.color_penalties, \n",
    "              demo_test, c_cfg.blue, c_cfg.green, vmin=-50, vmax=10)"
   ]
  },
  {
   "cell_type": "markdown",
   "metadata": {},
   "source": [
    "Load values from pickle"
   ]
  },
  {
   "cell_type": "code",
   "execution_count": 7,
   "metadata": {},
   "outputs": [],
   "source": [
    "import pickle \n",
    "import numpy as np\n",
    "\n",
    "with open('qvalues_constraints', 'rb') as f:\n",
    "    policy_c = pickle.load(f)\n",
    "    \n",
    "with open('qvalues_nominal', 'rb') as f:\n",
    "    policy_n = pickle.load(f)"
   ]
  },
  {
   "cell_type": "markdown",
   "metadata": {},
   "source": [
    "Generate figure for each state in the grid. DISABLED, not required"
   ]
  },
  {
   "cell_type": "code",
   "execution_count": 8,
   "metadata": {
    "collapsed": true
   },
   "outputs": [
    {
     "data": {
      "text/plain": [
       "\"for i, (q_value_n, q_value_c) in enumerate(zip(policy_n,policy_c)):\\n    #print(n.world.state_index_to_point(i))\\n    coord = n.world.state_index_to_point(i)\\n    f1 = G.plot_world(f'MCA', c, c_cfg.state_penalties, \\n              c_cfg.action_penalties, c_cfg.color_penalties, \\n              demo_test, c_cfg.blue, c_cfg.green, red_states=[i], vmin=-50, vmax=10)\\n    print(i, Directions.ALL_DIRECTIONS[np.argmax(q_value_n)], Directions.ALL_DIRECTIONS[np.argmax(q_value_c)])\\n    f1.savefig(f'visuals/state{coord[1]}{coord[0]}.png')\\n    #break\""
      ]
     },
     "execution_count": 8,
     "metadata": {},
     "output_type": "execute_result"
    }
   ],
   "source": [
    "'''for i, (q_value_n, q_value_c) in enumerate(zip(policy_n,policy_c)):\n",
    "    #print(n.world.state_index_to_point(i))\n",
    "    coord = n.world.state_index_to_point(i)\n",
    "    f1 = G.plot_world(f'MCA', c, c_cfg.state_penalties, \n",
    "              c_cfg.action_penalties, c_cfg.color_penalties, \n",
    "              demo_test, c_cfg.blue, c_cfg.green, red_states=[i], vmin=-50, vmax=10)\n",
    "    print(i, Directions.ALL_DIRECTIONS[np.argmax(q_value_n)], Directions.ALL_DIRECTIONS[np.argmax(q_value_c)])\n",
    "    f1.savefig(f'visuals/state{coord[1]}{coord[0]}.png')\n",
    "    #break'''"
   ]
  },
  {
   "cell_type": "markdown",
   "metadata": {},
   "source": [
    "Define function for removing impossible actions for a state. Meaning that state on the border of the grid cannot have move taking an agent outside the grid"
   ]
  },
  {
   "cell_type": "code",
   "execution_count": 9,
   "metadata": {},
   "outputs": [
    {
     "name": "stdout",
     "output_type": "stream",
     "text": [
      "0 (0, 0)\n",
      "[0.07599285 0.10483997 0.52062126 0.07599285 0.0171067  0.17123295\n",
      " 0.0171067  0.0171067 ]\n",
      "[0 3 4 6 7]\n",
      "1 (1, 0)\n",
      "[0.0536229  0.08162027 0.53674905 0.07397831 0.08269763 0.13802542\n",
      " 0.01665321 0.01665321]\n",
      "[3 6 7]\n",
      "2 (2, 0)\n",
      "[0.06629556 0.06459729 0.54947193 0.07314389 0.10827918 0.1052814\n",
      " 0.01646538 0.01646538]\n",
      "[3 6 7]\n",
      "3 (3, 0)\n",
      "[0.08397888 0.05251972 0.53697005 0.07416625 0.14201399 0.07696006\n",
      " 0.01669552 0.01669552]\n",
      "[3 6 7]\n",
      "4 (4, 0)\n",
      "[0.10888107 0.04461858 0.50190073 0.0771025  0.1774556  0.05532853\n",
      " 0.0173565  0.0173565 ]\n",
      "[3 6 7]\n",
      "5 (5, 0)\n",
      "[0.1417028  0.04005658 0.451716   0.08200223 0.20764496 0.03995848\n",
      " 0.01845947 0.01845947]\n",
      "[3 6 7]\n",
      "6 (6, 0)\n",
      "[0.18207712 0.0388894  0.39413503 0.08894132 0.22578172 0.03013236\n",
      " 0.02002153 0.02002153]\n",
      "[3 6 7]\n",
      "7 (7, 0)\n",
      "[0.22411607 0.04507676 0.3372943  0.09799426 0.22356718 0.02783256\n",
      " 0.02205943 0.02205943]\n",
      "[3 6 7]\n",
      "8 (8, 0)\n",
      "[0.23434764 0.10779849 0.29567831 0.10779849 0.18157772 0.02426645\n",
      " 0.02426645 0.02426645]\n",
      "[1 3 5 6 7]\n",
      "9 (0, 1)\n",
      "[0.05785826 0.08453513 0.59827825 0.00844532 0.01302444 0.22221138\n",
      " 0.01302444 0.00262279]\n",
      "[0 4 6]\n",
      "10 (1, 1)\n",
      "[0.03707134 0.06187345 0.63247834 0.00746523 0.08629185 0.17174759\n",
      " 0.0012181  0.00185409]\n",
      "[]\n",
      "11 (2, 1)\n",
      "[0.04659341 0.04530344 0.65631357 0.00708519 0.12247673 0.11937347\n",
      " 0.00144561 0.00140858]\n",
      "[]\n",
      "12 (3, 1)\n",
      "[0.06376879 0.03455751 0.63533636 0.00749682 0.17700866 0.07872593\n",
      " 0.00191088 0.00119505]\n",
      "[]\n",
      "13 (4, 1)\n",
      "[0.09010127 0.0280925  0.58054295 0.00881258 0.23741464 0.05108661\n",
      " 0.00280144 0.00114801]\n",
      "[]\n",
      "14 (5, 1)\n",
      "[0.1278571  0.02460438 0.50580805 0.0113664  0.29127298 0.03341973\n",
      " 0.00442149 0.00124987]\n",
      "[]\n",
      "15 (6, 1)\n",
      "[0.17884065 0.02386771 0.42404604 0.01585896 0.32522433 0.02329298\n",
      " 0.00730836 0.00156097]\n",
      "[]\n",
      "16 (7, 1)\n",
      "[0.23786659 0.02961274 0.35022627 0.02347035 0.32309033 0.02122009\n",
      " 0.0120833  0.00243033]\n",
      "[]\n",
      "17 (8, 1)\n",
      "[0.25816839 0.09463539 0.30125113 0.0345022  0.25195176 0.02130332\n",
      " 0.0168845  0.02130332]\n",
      "[1 5 7]\n",
      "18 (0, 2)\n",
      "[0.0434244  0.07164787 0.59335833 0.00419948 0.00977524 0.26643822\n",
      " 0.00977524 0.00138122]\n",
      "[0 4 6]\n",
      "19 (1, 2)\n",
      "[2.40422084e-02 4.78514629e-02 6.55304916e-01 3.39710014e-03\n",
      " 7.39522114e-02 1.94055138e-01 5.23395652e-04 8.73566819e-04]\n",
      "[]\n",
      "20 (2, 2)\n",
      "[3.20465489e-02 3.12345657e-02 6.96416381e-01 3.13501744e-03\n",
      " 1.19172067e-01 1.16776947e-01 6.17787897e-04 6.00684048e-04]\n",
      "[]\n",
      "21 (3, 2)\n",
      "[4.91117177e-02 2.18428044e-02 6.59046373e-01 3.39004104e-03\n",
      " 1.99165931e-01 6.60606882e-02 8.96573781e-04 4.85870215e-04]\n",
      "[]\n",
      "22 (4, 2)\n",
      "[7.75260152e-02 1.66819600e-02 5.73335735e-01 4.21683098e-03\n",
      " 2.89847199e-01 3.64364727e-02 1.49093287e-03 4.64854984e-04]\n",
      "[]\n",
      "23 (5, 2)\n",
      "[0.12237262 0.01404064 0.46415074 0.00592162 0.37009988 0.02016864\n",
      " 0.00272205 0.00052382]\n",
      "[]\n",
      "24 (6, 2)\n",
      "[0.18954866 0.01357571 0.35500972 0.00922035 0.41400917 0.01264956\n",
      " 0.00528191 0.00070491]\n",
      "[]\n",
      "25 (7, 2)\n",
      "[0.27363521 0.01797195 0.27638189 0.01540173 0.39306243 0.01206721\n",
      " 0.01020866 0.00127091]\n",
      "[]\n",
      "26 (8, 2)\n",
      "[0.30661478 0.08252737 0.24615923 0.02592525 0.28569716 0.01857769\n",
      " 0.01592084 0.01857769]\n",
      "[1 5 7]\n",
      "27 (0, 3)\n",
      "[0.03168341 0.06320011 0.54946398 0.00231872 0.00713223 0.33820809\n",
      " 0.00713223 0.00086122]\n",
      "[0 4 6]\n",
      "28 (1, 3)\n",
      "[1.40104155e-02 3.67641896e-02 6.64369141e-01 1.69175429e-03\n",
      " 5.46955385e-02 2.27778756e-01 2.30813616e-04 4.59390792e-04]\n",
      "[]\n",
      "29 (2, 3)\n",
      "[2.04433947e-02 2.00325234e-02 7.40177261e-01 1.49281094e-03\n",
      " 1.09400470e-01 1.07903442e-01 2.78578133e-04 2.71519627e-04]\n",
      "[]\n",
      "30 (3, 3)\n",
      "[3.74619956e-02 1.24256453e-02 6.67715518e-01 1.68018615e-03\n",
      " 2.32102131e-01 4.79382187e-02 4.68110299e-04 2.08195563e-04]\n",
      "[]\n",
      "31 (4, 3)\n",
      "[6.90581952e-02 8.68125361e-03 5.27009045e-01 2.28879896e-03\n",
      " 3.71975950e-01 1.98493366e-02 9.36010659e-04 2.01409711e-04]\n",
      "[]\n",
      "32 (5, 3)\n",
      "[1.26719482e-01 6.90559313e-03 3.63368304e-01 3.68707059e-03\n",
      " 4.88884570e-01 8.06814337e-03 2.12322446e-03 2.43611985e-04]\n",
      "[]\n",
      "33 (6, 3)\n",
      "[2.27405252e-01 6.94809957e-03 2.27826056e-01 6.87904951e-03\n",
      " 5.19952945e-01 5.33480732e-03 5.27592305e-03 3.77868260e-04]\n",
      "[]\n",
      "34 (7, 3)\n",
      "[0.35306287 0.01083921 0.19061312 0.01350127 0.41250068 0.00620965\n",
      " 0.01245517 0.00081804]\n",
      "[]\n",
      "35 (8, 3)\n",
      "[0.37564289 0.07285829 0.18541939 0.02442648 0.28842167 0.01640109\n",
      " 0.02042912 0.01640109]\n",
      "[1 5 7]\n",
      "36 (0, 4)\n",
      "[0.02252651 0.06159496 0.42751346 0.00129893 0.00507093 0.47634102\n",
      " 0.00507093 0.00058327]\n",
      "[0 4 6]\n",
      "37 (1, 4)\n",
      "[6.85650593e-03 2.85538170e-02 6.44070240e-01 7.88644805e-04\n",
      " 2.92922181e-02 2.90116033e-01 8.89998318e-05 2.33541017e-04]\n",
      "[]\n",
      "38 (2, 4)\n",
      "[1.16003452e-02 1.14416068e-02 7.97434503e-01 6.41928207e-04\n",
      " 8.97105957e-02 8.89535330e-02 1.09847950e-04 1.07640225e-04]\n",
      "[]\n",
      "39 (3, 4)\n",
      "[2.88559144e-02 5.95988124e-03 6.45391683e-01 7.80970737e-04\n",
      " 2.93185441e-01 2.55118153e-02 2.36011865e-04 7.82819941e-05]\n",
      "[]\n",
      "40 (4, 4)\n",
      "[6.66944976e-02 3.55894388e-03 4.04479922e-01 1.24113061e-03\n",
      " 5.18520805e-01 4.79837672e-03 6.27447774e-04 7.88759863e-05]\n",
      "[]\n",
      "41 (5, 4)\n",
      "[1.57660959e-01 2.60190503e-03 1.57993085e-01 2.59709921e-03\n",
      " 6.74882118e-01 2.08113324e-03 2.07084903e-03 1.12851162e-04]\n",
      "[]\n",
      "42 (6, 4)\n",
      "[3.62744865e-01 3.72182517e-03 1.27130299e-01 6.89374503e-03\n",
      " 4.89073886e-01 2.15032153e-03 8.03942403e-03 2.45635131e-04]\n",
      "[]\n",
      "43 (7, 4)\n",
      "[0.46210346 0.00695636 0.12337148 0.01409295 0.36961336 0.00320449\n",
      " 0.02004259 0.00061532]\n",
      "[]\n",
      "44 (8, 4)\n",
      "[0.45317761 0.0655827  0.13420626 0.02576992 0.26182787 0.01476328\n",
      " 0.02990907 0.01476328]\n",
      "[1 5 7]\n",
      "45 (0, 5)\n",
      "[1.57557204e-02 7.79853176e-02 9.10012978e-02 8.30199502e-04\n",
      " 3.54676057e-03 8.06822936e-01 3.54676057e-03 5.11007453e-04]\n",
      "[0 4 6]\n",
      "46 (1, 5)\n",
      "[2.37323726e-03 2.35050203e-02 5.39867922e-01 3.41929461e-04\n",
      " 3.08563171e-03 4.30680879e-01 2.81500371e-05 1.17230411e-04]\n",
      "[]\n",
      "47 (2, 5)\n",
      "[5.38924793e-03 5.34376837e-03 8.77757212e-01 2.38923629e-04\n",
      " 5.57562497e-02 5.54444544e-02 3.53136455e-05 3.48304158e-05]\n",
      "[]\n",
      "48 (3, 5)\n",
      "[2.35949368e-02 2.05313629e-03 5.38902590e-01 3.38540644e-04\n",
      " 4.32328413e-01 2.64039940e-03 1.17678866e-04 2.43053141e-05]\n",
      "[]\n",
      "49 (4, 5)\n",
      "[8.05759694e-02 7.45647719e-04 8.08329012e-02 7.44080255e-04\n",
      " 8.36018769e-01 5.29416783e-04 5.25190151e-04 2.80251347e-05]\n",
      "[]\n",
      "50 (5, 5)\n",
      "[4.03594124e-01 1.24456275e-03 6.70840081e-02 3.55114991e-03\n",
      " 5.19035043e-01 6.34460114e-04 4.77780361e-03 7.88488875e-05]\n",
      "[]\n",
      "51 (6, 5)\n",
      "[5.25438311e-01 2.31020577e-03 6.96279891e-02 8.65316725e-03\n",
      " 3.73066065e-01 9.53064163e-04 1.97485743e-02 2.02623795e-04]\n",
      "[]\n",
      "52 (7, 5)\n",
      "[5.70507119e-01 4.94620721e-03 7.85596724e-02 1.67019804e-02\n",
      " 2.90836288e-01 1.76032704e-03 3.61443016e-02 5.44104654e-04]\n",
      "[]\n",
      "53 (8, 5)\n",
      "[0.52455028 0.06052539 0.09568967 0.029577   0.21640067 0.01362483\n",
      " 0.04600732 0.01362483]\n",
      "[1 5 7]\n",
      "54 (0, 6)\n",
      "[0.01332775 0.5249211  0.02746201 0.00230753 0.0030002  0.42341011\n",
      " 0.0030002  0.00257108]\n",
      "[0 4 6]\n",
      "55 (1, 6)\n",
      "[1.68728592e-04 2.35505028e-02 2.38121882e-02 1.44595221e-04\n",
      " 7.82632044e-05 9.52174014e-01 6.57616903e-06 6.51317037e-05]\n",
      "[]\n",
      "56 (2, 6)\n",
      "[1.56212201e-03 1.55338644e-03 9.94287419e-01 6.80123933e-05\n",
      " 1.26003364e-03 1.25378845e-03 7.65132723e-06 7.58675810e-06]\n",
      "[]\n",
      "57 (3, 6)\n",
      "[2.35542003e-02 1.43854751e-04 2.36978861e-02 1.43397501e-04\n",
      " 9.52323507e-01 6.63443264e-05 6.51419295e-05 5.66838812e-06]\n",
      "[]\n",
      "58 (4, 6)\n",
      "[5.37252743e-01 3.40220375e-04 2.39568857e-02 2.04685063e-03\n",
      " 4.33634068e-01 1.21002115e-04 2.62394887e-03 2.42819479e-05]\n",
      "[]\n",
      "59 (5, 6)\n",
      "[6.42051341e-01 7.84833265e-04 2.95137723e-02 5.92263930e-03\n",
      " 2.96107452e-01 2.42843490e-04 2.52991033e-02 7.80148168e-05]\n",
      "[]\n",
      "60 (6, 6)\n",
      "[6.63603645e-01 1.69529451e-03 3.83226853e-02 1.23113750e-02\n",
      " 2.36015978e-01 4.80573204e-04 4.73622109e-02 2.08238438e-04]\n",
      "[]\n",
      "61 (7, 6)\n",
      "[6.54836219e-01 3.96348719e-03 5.01415966e-02 2.17269870e-02\n",
      " 2.02619741e-01 1.05491041e-03 6.50927145e-02 5.64343622e-04]\n",
      "[]\n",
      "62 (8, 6)\n",
      "[0.57759529 0.05749416 0.06797798 0.03636606 0.16373369 0.01294248\n",
      " 0.07094787 0.01294248]\n",
      "[1 5 7]\n",
      "63 (0, 7)\n",
      "[0.01244924 0.85266435 0.00675866 0.00604182 0.00280244 0.06291395\n",
      " 0.00280244 0.0535671 ]\n",
      "[0 4 6]\n",
      "64 (1, 7)\n",
      "[8.16817050e-05 9.93764535e-01 1.83372984e-03 1.56130050e-03\n",
      " 9.98243098e-06 1.49431588e-03 8.92366105e-06 1.24553108e-03]\n",
      "[]\n",
      "65 (2, 7)\n",
      "[0.22505657 0.22394111 0.26704252 0.2225833  0.01660583 0.01655002\n",
      " 0.01413877 0.01405971]\n",
      "[]\n",
      "66 (3, 7)\n",
      "[9.93794011e-01 6.92334000e-05 1.82762161e-03 1.55261559e-03\n",
      " 1.49436020e-03 8.98291639e-06 1.24556802e-03 7.60717305e-06]\n",
      "[]\n",
      "67 (4, 7)\n",
      "[8.69346511e-01 2.42584184e-04 6.23162884e-03 5.27724816e-03\n",
      " 6.42477201e-02 3.95119411e-05 5.45802321e-02 3.45634476e-05]\n",
      "[]\n",
      "68 (5, 7)\n",
      "[7.86681087e-01 6.45172486e-04 1.27714433e-02 1.11719419e-02\n",
      " 1.02070539e-01 1.15830445e-04 8.64383255e-02 1.05660823e-04]\n",
      "[]\n",
      "69 (6, 7)\n",
      "[7.33199811e-01 1.49293359e-03 2.13738993e-02 1.94973247e-02\n",
      " 1.19423069e-01 2.79614009e-04 1.04466469e-01 2.66878330e-04]\n",
      "[]\n",
      "70 (7, 7)\n",
      "[6.93936040e-01 3.61287772e-03 3.21628319e-02 3.06978999e-02\n",
      " 1.24585164e-01 6.70422153e-04 1.13646900e-01 6.87863652e-04]\n",
      "[]\n",
      "71 (8, 7)\n",
      "[0.60325383 0.05637985 0.04647564 0.04768474 0.11298441 0.01269163\n",
      " 0.10783827 0.01269163]\n",
      "[1 5 7]\n",
      "72 (0, 8)\n",
      "[0.01346467 0.556786   0.01346467 0.02480149 0.00303102 0.00303102\n",
      " 0.00303102 0.3823901 ]\n",
      "[0 2 4 5 6]\n",
      "73 (1, 8)\n",
      "[1.85807094e-04 2.78143161e-02 7.68342638e-03 2.34411905e-02\n",
      " 1.72961141e-03 1.72961141e-03 7.70438514e-05 9.37338993e-01]\n",
      "[2 4 5]\n",
      "74 (2, 8)\n",
      "[0.00181636 0.00181025 0.00657528 0.9843491  0.00148016 0.00148016\n",
      " 0.00124744 0.00124126]\n",
      "[2 4 5]\n",
      "75 (3, 8)\n",
      "[2.78194343e-02 1.67228525e-04 7.65901455e-03 2.33292994e-02\n",
      " 1.72411608e-03 1.72411608e-03 9.37511479e-01 6.53124355e-05]\n",
      "[2 4 5]\n",
      "76 (4, 8)\n",
      "[5.69465099e-01 3.50217431e-04 1.24338201e-02 2.15723019e-02\n",
      " 2.79896963e-03 2.79896963e-03 3.90471664e-01 1.08957992e-04]\n",
      "[2 4 5]\n",
      "77 (5, 8)\n",
      "[6.79445403e-01 7.71039952e-04 1.91376119e-02 2.64493783e-02\n",
      " 4.30805612e-03 4.30805612e-03 2.65362826e-01 2.17629223e-04]\n",
      "[2 4 5]\n",
      "78 (6, 8)\n",
      "[7.02723325e-01 1.64533777e-03 2.83121928e-02 3.54993360e-02\n",
      " 6.37334041e-03 6.37334041e-03 2.18627960e-01 4.45167907e-04]\n",
      "[2 4 5]\n",
      "79 (7, 8)\n",
      "[0.69288953 0.0037286  0.04026666 0.04839726 0.0090644  0.0090644\n",
      " 0.19557094 0.00101821]\n",
      "[2 4 5]\n",
      "80 (8, 8)\n",
      "[0.61326237 0.05678672 0.05678672 0.06888827 0.01278322 0.01278322\n",
      " 0.16592625 0.01278322]\n",
      "[1 2 4 5 7]\n"
     ]
    }
   ],
   "source": [
    "border_bottom = [0,1,2,3,4,5,6,7,8]\n",
    "border_top = [72,73,74,75,76,77,78,79,80]\n",
    "border_left =[0,9,18,27,36,45,54,63,72]\n",
    "border_right = [8,17,26,35,44,53,62,71,80]\n",
    "\n",
    "#print(Directions.ALL_DIRECTIONS)\n",
    "\n",
    "def remove_actions(state):\n",
    "    list_act = []\n",
    "    if state in border_bottom:\n",
    "        list_act.append(7)\n",
    "        list_act.append(6)\n",
    "        list_act.append(3)\n",
    "        \n",
    "    if state in border_top:\n",
    "        list_act.append(4)\n",
    "        list_act.append(5)\n",
    "        list_act.append(2)\n",
    "    \n",
    "    if state in border_left:\n",
    "        list_act.append(0)\n",
    "        list_act.append(4)\n",
    "        list_act.append(6)\n",
    "    \n",
    "    if state in border_right:\n",
    "        list_act.append(1)\n",
    "        list_act.append(5)\n",
    "        list_act.append(7)\n",
    "        \n",
    "    list_act.sort()\n",
    "    #print(state, np.unique(list_act))\n",
    "    #for index in reversed(np.unique(list_act)):\n",
    "    #    print(f\"delete {index}\")\n",
    "    #    actions = np.delete(actions,index)\n",
    "        \n",
    "    return np.unique(list_act)\n",
    "    \n",
    "    \n",
    "for i, (q_value_n, q_value_c) in enumerate(zip(policy_n,policy_c)):\n",
    "    #print(n.world.state_index_to_point(i))\n",
    "    coord = n.world.state_index_to_point(i)\n",
    "    print(i,coord)\n",
    "    print(q_value_n)\n",
    "    impossible_actions = remove_actions(i)\n",
    "    print(impossible_actions)\n"
   ]
  },
  {
   "cell_type": "markdown",
   "metadata": {},
   "source": [
    "Text Group 2"
   ]
  },
  {
   "cell_type": "code",
   "execution_count": 30,
   "metadata": {
    "collapsed": true
   },
   "outputs": [
    {
     "name": "stdout",
     "output_type": "stream",
     "text": [
      "[0 3 4 6 7]\n",
      "[4 6 7 0 3 1 5 2]\n",
      "[4 6 7 0 3 1 2 5]\n",
      "[1 5 2]\n",
      "[1 2 5]\n",
      "[3 6 7]\n",
      "[7 6 0 3 1 4 5 2]\n",
      "[6 4 0 7 3 5 1 2]\n",
      "[0 1 4 5 2]\n",
      "[4 0 5 1 2]\n",
      "[3 6 7]\n",
      "[7 6 1 0 3 5 4 2]\n",
      "[6 0 4 5 7 1 3 2]\n",
      "[1 0 5 4 2]\n",
      "[0 4 5 1 2]\n",
      "[3 6 7]\n",
      "[7 6 1 3 5 0 4 2]\n",
      "[5 6 4 7 2 3 0 1]\n",
      "[1 5 0 4 2]\n",
      "[5 4 2 0 1]\n",
      "[3 6 7]\n",
      "[6 7 1 5 3 0 4 2]\n",
      "[4 6 2 7 5 0 3 1]\n",
      "[1 5 0 4 2]\n",
      "[4 2 5 0 1]\n",
      "[3 6 7]\n",
      "[7 6 5 1 3 0 4 2]\n",
      "[4 6 7 0 2 5 3 1]\n",
      "[5 1 0 4 2]\n",
      "[4 0 2 5 1]\n",
      "[3 6 7]\n",
      "[7 6 5 1 3 0 4 2]\n",
      "[4 6 7 0 5 2 3 1]\n",
      "[5 1 0 4 2]\n",
      "[4 0 5 2 1]\n",
      "[3 6 7]\n",
      "[6 7 5 1 3 4 0 2]\n",
      "[4 6 7 5 0 3 2 1]\n",
      "[5 1 4 0 2]\n",
      "[4 5 0 2 1]\n",
      "[1 3 5 6 7]\n",
      "[5 6 7 1 3 4 0 2]\n",
      "[4 6 7 5 0 1 3 2]\n",
      "[4 0 2]\n",
      "[4 0 2]\n",
      "Same action\n",
      "[0 4 6]\n",
      "[7 3 4 6 0 1 5 2]\n",
      "[6 4 3 7 0 2 1 5]\n",
      "[7 3 1 5 2]\n",
      "[3 7 2 1 5]\n",
      "[]\n",
      "[6 7 3 0 1 4 5 2]\n",
      "[6 4 3 0 5 7 1 2]\n",
      "[6 7 3 0 1 4 5 2]\n",
      "[6 4 3 0 5 7 1 2]\n",
      "[]\n",
      "[7 6 3 1 0 5 4 2]\n",
      "[6 5 2 4 7 1 3 0]\n",
      "[7 6 3 1 0 5 4 2]\n",
      "[6 5 2 4 7 1 3 0]\n",
      "[]\n",
      "[7 6 3 1 0 5 4 2]\n",
      "[4 6 1 2 7 5 3 0]\n",
      "[7 6 3 1 0 5 4 2]\n",
      "[4 6 1 2 7 5 3 0]\n",
      "[]\n",
      "[7 6 3 1 5 0 4 2]\n",
      "[4 6 5 0 7 3 2 1]\n",
      "[7 6 3 1 5 0 4 2]\n",
      "[4 6 5 0 7 3 2 1]\n",
      "[]\n",
      "[7 6 3 1 5 0 4 2]\n",
      "[6 4 0 2 5 7 3 1]\n",
      "[7 6 3 1 5 0 4 2]\n",
      "[6 4 0 2 5 7 3 1]\n",
      "[]\n",
      "[7 6 3 5 1 0 4 2]\n",
      "[4 6 0 7 5 2 3 1]\n",
      "[7 6 3 5 1 0 4 2]\n",
      "[4 6 0 7 5 2 3 1]\n",
      "[]\n",
      "[7 6 5 3 1 0 4 2]\n",
      "[4 6 7 5 0 3 2 1]\n",
      "[7 6 5 3 1 0 4 2]\n",
      "[4 6 7 5 0 3 2 1]\n",
      "[1 5 7]\n",
      "[6 7 5 3 1 4 0 2]\n",
      "[6 4 7 5 0 3 1 2]\n",
      "[6 3 4 0 2]\n",
      "[6 4 0 3 2]\n",
      "[0 4 6]\n",
      "[7 3 6 4 0 1 5 2]\n",
      "[6 4 3 0 7 1 5 2]\n",
      "[7 3 1 5 2]\n",
      "[3 7 1 5 2]\n",
      "[]\n",
      "[6 7 3 0 1 4 5 2]\n",
      "[6 1 0 4 7 3 5 2]\n",
      "[6 7 3 0 1 4 5 2]\n",
      "[6 1 0 4 7 3 5 2]\n",
      "[]\n",
      "[7 6 3 1 0 5 4 2]\n",
      "[1 5 6 4 7 3 2 0]\n",
      "[7 6 3 1 0 5 4 2]\n",
      "[1 5 6 4 7 3 2 0]\n",
      "[]\n",
      "[7 6 3 1 0 5 4 2]\n",
      "[7 6 2 0 4 3 1 5]\n",
      "[7 6 3 1 0 5 4 2]\n",
      "[7 6 2 0 4 3 1 5]\n",
      "[]\n",
      "[7 6 3 1 5 0 4 2]\n",
      "[4 6 3 0 1 7 5 2]\n",
      "[7 6 3 1 5 0 4 2]\n",
      "[4 6 3 0 1 7 5 2]\n",
      "[]\n",
      "[7 6 3 1 5 0 4 2]\n",
      "[6 4 5 0 3 7 2 1]\n",
      "[7 6 3 1 5 0 4 2]\n",
      "[6 4 5 0 3 7 2 1]\n",
      "[]\n",
      "[7 6 3 5 1 0 2 4]\n",
      "[6 4 0 2 7 5 3 1]\n",
      "[7 6 3 5 1 0 2 4]\n",
      "[6 4 0 2 7 5 3 1]\n",
      "[]\n",
      "[7 6 5 3 1 0 2 4]\n",
      "[4 6 7 0 5 3 2 1]\n",
      "[7 6 5 3 1 0 2 4]\n",
      "[4 6 7 0 5 3 2 1]\n",
      "[1 5 7]\n",
      "[6 5 7 3 1 2 4 0]\n",
      "[6 4 7 5 0 3 1 2]\n",
      "[6 3 2 4 0]\n",
      "[6 4 0 3 2]\n",
      "[0 4 6]\n",
      "[7 3 6 4 0 1 5 2]\n",
      "[3 6 4 7 1 0 5 2]\n",
      "[7 3 1 5 2]\n",
      "[3 7 1 5 2]\n",
      "[]\n",
      "[6 7 3 0 1 4 5 2]\n",
      "[6 7 5 4 1 3 0 2]\n",
      "[6 7 3 0 1 4 5 2]\n",
      "[6 7 5 4 1 3 0 2]\n",
      "[]\n",
      "[7 6 3 1 0 5 4 2]\n",
      "[7 1 3 5 6 2 4 0]\n",
      "[7 6 3 1 0 5 4 2]\n",
      "[7 1 3 5 6 2 4 0]\n",
      "[]\n",
      "[7 6 3 1 0 5 4 2]\n",
      "[6 4 3 2 7 1 5 0]\n",
      "[7 6 3 1 0 5 4 2]\n",
      "[6 4 3 2 7 1 5 0]\n",
      "[]\n",
      "[7 6 3 1 5 0 4 2]\n",
      "[6 4 7 0 5 3 1 2]\n",
      "[7 6 3 1 5 0 4 2]\n",
      "[6 4 7 0 5 3 1 2]\n",
      "[]\n",
      "[7 6 3 1 5 0 2 4]\n",
      "[6 3 5 2 4 7 1 0]\n",
      "[7 6 3 1 5 0 2 4]\n",
      "[6 3 5 2 4 7 1 0]\n",
      "[]\n",
      "[7 6 5 3 1 0 2 4]\n",
      "[6 4 2 0 7 3 5 1]\n",
      "[7 6 5 3 1 0 2 4]\n",
      "[6 4 2 0 7 3 5 1]\n",
      "[]\n",
      "[7 5 1 6 3 2 0 4]\n",
      "[4 6 0 7 3 5 1 2]\n",
      "[7 5 1 6 3 2 0 4]\n",
      "[4 6 0 7 3 5 1 2]\n",
      "[1 5 7]\n",
      "[7 5 6 3 1 2 4 0]\n",
      "[6 4 5 7 0 3 1 2]\n",
      "[6 3 2 4 0]\n",
      "[6 4 0 3 2]\n",
      "[0 4 6]\n",
      "[7 3 4 6 0 1 2 5]\n",
      "[6 4 7 3 1 0 5 2]\n",
      "[7 3 1 2 5]\n",
      "[7 3 1 5 2]\n",
      "[]\n",
      "[6 7 3 0 1 4 5 2]\n",
      "[6 1 4 7 3 0 5 2]\n",
      "[6 7 3 0 1 4 5 2]\n",
      "[6 1 4 7 3 0 5 2]\n",
      "[]\n",
      "[7 6 3 1 0 5 4 2]\n",
      "[7 1 6 5 4 3 0 2]\n",
      "[7 6 3 1 0 5 4 2]\n",
      "[7 1 6 5 4 3 0 2]\n",
      "[]\n",
      "[7 6 3 1 5 0 4 2]\n",
      "[3 6 0 2 4 7 1 5]\n",
      "[7 6 3 1 5 0 4 2]\n",
      "[3 6 0 2 4 7 1 5]\n",
      "[]\n",
      "[7 6 3 1 5 0 2 4]\n",
      "[6 4 1 0 7 3 5 2]\n",
      "[7 6 3 1 5 0 2 4]\n",
      "[6 4 1 0 7 3 5 2]\n",
      "[]\n",
      "[7 6 5 3 1 0 2 4]\n",
      "[6 1 4 7 3 5 0 2]\n",
      "[7 6 5 3 1 0 2 4]\n",
      "[6 1 4 7 3 5 0 2]\n",
      "[]\n",
      "[7 5 1 3 6 2 0 4]\n",
      "[6 0 4 3 7 1 5 2]\n",
      "[7 5 1 3 6 2 0 4]\n",
      "[6 0 4 3 7 1 5 2]\n",
      "[]\n",
      "[7 5 1 3 6 2 4 0]\n",
      "[6 0 4 7 3 5 1 2]\n",
      "[7 5 1 3 6 2 4 0]\n",
      "[6 0 4 7 3 5 1 2]\n",
      "[1 5 7]\n",
      "[7 5 3 6 1 2 4 0]\n",
      "[6 4 5 7 3 0 1 2]\n",
      "[3 6 2 4 0]\n",
      "[6 4 3 0 2]\n",
      "[0 4 6]\n",
      "[7 3 4 6 0 1 2 5]\n",
      "[6 4 7 3 0 1 2 5]\n",
      "[7 3 1 2 5]\n",
      "[7 3 1 2 5]\n",
      "Same action\n",
      "Same action\n",
      "[]\n",
      "[6 7 3 0 4 1 5 2]\n",
      "[7 6 4 3 0 1 5 2]\n",
      "[6 7 3 0 4 1 5 2]\n",
      "[7 6 4 3 0 1 5 2]\n",
      "[]\n",
      "[7 6 3 1 0 5 4 2]\n",
      "[7 3 6 1 4 5 0 2]\n",
      "[7 6 3 1 0 5 4 2]\n",
      "[7 3 6 1 4 5 0 2]\n",
      "[]\n",
      "[7 6 3 1 5 0 4 2]\n",
      "[6 3 4 7 1 5 0 2]\n",
      "[7 6 3 1 5 0 4 2]\n",
      "[6 3 4 7 1 5 0 2]\n",
      "[]\n",
      "[7 6 5 3 1 0 2 4]\n",
      "[6 7 5 0 4 3 1 2]\n",
      "[7 6 5 3 1 0 2 4]\n",
      "[6 7 5 0 4 3 1 2]\n",
      "[]\n",
      "[7 5 1 3 6 2 0 4]\n",
      "[7 3 6 2 4 1 5 0]\n",
      "[7 5 1 3 6 2 0 4]\n",
      "[7 3 6 2 4 1 5 0]\n",
      "[]\n",
      "[7 5 1 3 6 2 4 0]\n",
      "[6 4 3 7 1 5 0 2]\n",
      "[7 5 1 3 6 2 4 0]\n",
      "[6 4 3 7 1 5 0 2]\n",
      "[]\n",
      "[7 5 1 3 6 2 4 0]\n",
      "[6 4 7 3 5 1 0 2]\n",
      "[7 5 1 3 6 2 4 0]\n",
      "[6 4 7 3 5 1 0 2]\n",
      "[1 5 7]\n",
      "[7 5 3 6 1 2 4 0]\n",
      "[6 4 7 5 3 1 0 2]\n",
      "[3 6 2 4 0]\n",
      "[6 4 3 0 2]\n",
      "[0 4 6]\n",
      "[3 7 4 6 0 2 5 1]\n",
      "[6 4 2 7 3 0 5 1]\n",
      "[3 7 2 5 1]\n",
      "[2 7 3 5 1]\n",
      "[]\n",
      "[6 7 4 3 0 1 2 5]\n",
      "[4 6 7 3 0 2 1 5]\n",
      "[6 7 4 3 0 1 2 5]\n",
      "[4 6 7 3 0 2 1 5]\n",
      "[]\n",
      "[7 6 3 5 4 1 0 2]\n",
      "[7 6 4 3 1 5 0 2]\n",
      "[7 6 3 5 4 1 0 2]\n",
      "[7 6 4 3 1 5 0 2]\n",
      "[]\n",
      "[7 6 5 3 1 0 2 4]\n",
      "[3 6 4 7 1 5 2 0]\n",
      "[7 6 5 3 1 0 2 4]\n",
      "[3 6 4 7 1 5 2 0]\n",
      "[]\n",
      "[7 5 1 3 6 2 4 0]\n",
      "[6 1 4 7 3 5 2 0]\n",
      "[7 5 1 3 6 2 4 0]\n",
      "[6 1 4 7 3 5 2 0]\n",
      "[]\n",
      "[7 5 1 3 6 2 4 0]\n",
      "[6 4 7 3 1 5 2 0]\n",
      "[7 5 1 3 6 2 4 0]\n",
      "[6 4 7 3 1 5 2 0]\n",
      "[]\n",
      "[7 5 1 3 2 6 4 0]\n",
      "[6 0 4 7 3 1 5 2]\n",
      "[7 5 1 3 2 6 4 0]\n",
      "[6 0 4 7 3 1 5 2]\n",
      "[]\n",
      "[7 5 1 3 2 6 4 0]\n",
      "[6 4 7 3 5 1 0 2]\n",
      "[7 5 1 3 2 6 4 0]\n",
      "[6 4 7 3 5 1 0 2]\n",
      "[1 5 7]\n",
      "[7 5 3 1 2 6 4 0]\n",
      "[6 4 7 5 3 1 2 0]\n",
      "[3 2 6 4 0]\n",
      "[6 4 3 2 0]\n",
      "[0 4 6]\n",
      "[6 4 3 2 0 7 5 1]\n",
      "[6 4 0 2 3 5 7 1]\n",
      "[3 2 7 5 1]\n",
      "[2 3 5 7 1]\n",
      "[]\n",
      "[6 4 0 7 5 3 2 1]\n",
      "[4 6 0 5 2 7 3 1]\n",
      "[6 4 0 7 5 3 2 1]\n",
      "[4 6 0 5 2 7 3 1]\n",
      "[]\n",
      "[7 6 5 4 3 1 0 2]\n",
      "[4 6 2 5 7 1 0 3]\n",
      "[7 6 5 4 3 1 0 2]\n",
      "[4 6 2 5 7 1 0 3]\n",
      "[]\n",
      "[7 5 1 6 4 3 2 0]\n",
      "[4 5 6 7 1 2 3 0]\n",
      "[7 5 1 6 4 3 2 0]\n",
      "[4 5 6 7 1 2 3 0]\n",
      "[]\n",
      "[7 5 1 3 2 6 4 0]\n",
      "[7 2 4 6 5 1 3 0]\n",
      "[7 5 1 3 2 6 4 0]\n",
      "[7 2 4 6 5 1 3 0]\n",
      "[]\n",
      "[7 5 1 3 2 6 4 0]\n",
      "[4 3 6 7 5 1 2 0]\n",
      "[7 5 1 3 2 6 4 0]\n",
      "[4 3 6 7 5 1 2 0]\n",
      "[]\n",
      "[7 5 1 3 2 6 4 0]\n",
      "[6 4 7 5 3 1 2 0]\n",
      "[7 5 1 3 2 6 4 0]\n",
      "[6 4 7 5 3 1 2 0]\n",
      "[]\n",
      "[5 7 1 3 2 6 4 0]\n",
      "[6 4 7 5 1 3 2 0]\n",
      "[5 7 1 3 2 6 4 0]\n",
      "[6 4 7 5 1 3 2 0]\n",
      "[1 5 7]\n",
      "[5 7 2 3 1 6 4 0]\n",
      "[6 4 7 5 3 2 1 0]\n",
      "[2 3 6 4 0]\n",
      "[6 4 3 2 0]\n",
      "[0 2 4 5 6]\n",
      "[4 5 6 0 2 3 7 1]\n",
      "[6 4 3 5 0 2 7 1]\n",
      "[3 7 1]\n",
      "[3 7 1]\n",
      "Same action\n",
      "[2 4 5]\n",
      "[6 0 4 5 2 3 1 7]\n",
      "[6 4 1 0 5 2 3 7]\n",
      "[6 0 3 1 7]\n",
      "[6 1 0 3 7]\n",
      "[2 4 5]\n",
      "[7 6 4 5 1 0 2 3]\n",
      "[4 5 6 2 1 7 0 3]\n",
      "[7 6 1 0 3]\n",
      "[6 1 7 0 3]\n",
      "[2 4 5]\n",
      "[7 1 4 5 2 3 0 6]\n",
      "[1 4 0 6 7 5 2 3]\n",
      "[7 1 3 0 6]\n",
      "[1 0 6 7 3]\n",
      "[2 4 5]\n",
      "[7 1 4 5 2 3 6 0]\n",
      "[4 5 2 6 1 7 3 0]\n",
      "[7 1 3 6 0]\n",
      "[6 1 7 3 0]\n",
      "[2 4 5]\n",
      "[7 1 4 5 2 3 6 0]\n",
      "[4 0 6 7 1 5 2 3]\n",
      "[7 1 3 6 0]\n",
      "[0 6 7 1 3]\n",
      "[2 4 5]\n",
      "[7 1 5 4 2 3 6 0]\n",
      "[4 6 7 1 5 2 3 0]\n",
      "[7 1 3 6 0]\n",
      "[6 7 1 3 0]\n",
      "[2 4 5]\n",
      "[7 1 5 4 2 3 6 0]\n",
      "[4 6 7 5 1 2 3 0]\n",
      "[7 1 3 6 0]\n",
      "[6 7 1 3 0]\n",
      "[1 2 4 5 7]\n",
      "[7 4 5 1 2 3 6 0]\n",
      "[4 6 5 7 1 2 3 0]\n",
      "[3 6 0]\n",
      "[6 3 0]\n",
      "[['Road 3: (52, 0)', 'Road 6: (17, 100)'], ['Road 6: (13, 1)', 'Road 2: (8, 2)'], ['Road 5: (10, 0)', 'Road 2: (6, 14)'], ['Road 3: (53, 10)', 'Road 2: (5, 34)'], ['Road 3: (50, 0)', 'Road 2: (4, 58)'], ['Road 3: (45, 8)', 'Road 2: (4, 58)'], ['Road 3: (39, 15)', 'Road 2: (3, 39)'], ['Road 3: (33, 23)', 'Road 2: (4, 27)'], ['Road 3: (29, 24)', 'Road 5: (18, 0)'], ['Road 3: (59, 0)', 'Road 6: (22, 95)'], ['Road 6: (17, 0)', 'Road 2: (6, 0)'], ['Road 3: (65, 0)', 'Road 1: (4, 96)'], ['Road 3: (63, 0)', 'Road 1: (6, 69)'], ['Road 3: (58, 23)', 'Road 2: (2, 33)'], ['Road 3: (50, 0)', 'Road 2: (2, 50)'], ['Road 3: (42, 13)', 'Road 2: (2, 40)'], ['Road 3: (35, 26)', 'Road 2: (2, 28)'], ['Road 1: (25, 17)', 'Road 4: (3, 20)'], ['Road 4: (0, 0)', 'Road 8: (0, 0)'], ['Road 5: (7, 0)', 'Road 4: (0, 0)'], ['Road 3: (69, 31)', 'Road 1: (3, 68)'], ['Road 3: (65, 0)', 'Road 6: (6, 81)'], ['Road 5: (28, 0)', 'Road 6: (3, 1)'], ['Road 3: (46, 17)', 'Road 2: (1, 46)'], ['Road 5: (41, 0)', 'Road 2: (1, 51)'], ['Road 5: (39, 0)', 'Road 2: (1, 31)'], ['Road 1: (30, 15)', 'Road 3: (24, 36)'], ['Road 4: (0, 0)', 'Road 8: (0, 0)'], ['Road 6: (22, 0)', 'Road 1: (1, 4)'], ['Road 3: (74, 0)', 'Road 1: (2, 100)'], ['Road 3: (66, 0)', 'Road 1: (3, 74)'], ['Road 5: (37, 0)', 'Road 2: (0, 0)'], ['Road 5: (48, 0)', 'Road 1: (12, 84)'], ['Road 5: (51, 0)', 'Road 2: (0, 44)'], ['Road 5: (41, 0)', 'Road 3: (19, 40)'], ['Road 1: (37, 9)', 'Road 3: (18, 48)'], ['Road 6: (47, 35)', 'Road 3: (42, 56)'], ['Road 5: (2, 0)', 'Road 1: (0, 2)'], ['Road 5: (8, 0)', 'Road 1: (1, 4)'], ['Road 3: (64, 0)', 'Road 6: (2, 94)'], ['Road 5: (51, 0)', 'Road 3: (40, 99)'], ['Road 5: (67, 0)', 'Road 3: (15, 64)'], ['Road 5: (48, 0)', 'Road 3: (12, 73)'], ['Road 1: (46, 0)', 'Road 3: (12, 63)'], ['Road 1: (45, 11)', 'Road 3: (13, 54)'], ['Road 2: (7, 9)', 'Road 8: (0, 0)'], ['Road 5: (0, 0)', 'Road 1: (0, 0)'], ['Road 5: (5, 0)', 'Road 1: (0, 0)'], ['Road 5: (43, 0)', 'Road 1: (2, 18)'], ['Road 5: (83, 0)', 'Road 3: (8, 99)'], ['Road 5: (51, 0)', 'Road 1: (40, 98)'], ['Road 1: (52, 26)', 'Road 3: (6, 65)'], ['Road 1: (57, 11)', 'Road 3: (7, 72)'], ['Road 1: (52, 18)', 'Road 3: (9, 52)'], ['Road 3: (2, 0)', 'Road 4: (0, 0)'], ['Road 3: (2, 1)', 'Road 2: (2, 2)'], ['Road 2: (0, 0)', 'Road 6: (0, 0)'], ['Road 5: (95, 0)', 'Road 1: (2, 63)'], ['Road 5: (43, 0)', 'Road 3: (2, 17)'], ['Road 5: (29, 0)', 'Road 3: (2, 16)'], ['Road 1: (66, 0)', 'Road 3: (3, 95)'], ['Road 1: (65, 36)', 'Road 3: (5, 54)'], ['Road 5: (16, 0)', 'Road 3: (6, 34)'], ['Road 6: (6, 5)', 'Road 8: (5, 8)'], ['Road 3: (0, 0)', 'Road 4: (0, 0)'], ['Road 3: (26, 0)', 'Road 4: (22, 35)'], ['Road 3: (0, 0)', 'Road 4: (0, 0)'], ['Road 5: (6, 0)', 'Road 4: (0, 0)'], ['Road 5: (10, 0)', 'Road 3: (1, 0)'], ['Road 5: (11, 0)', 'Road 3: (2, 1)'], ['Road 5: (12, 0)', 'Road 3: (3, 4)'], ['Road 5: (11, 0)', 'Road 3: (4, 9)'], ['Road 4: (2, 0)', 'Road 2: (55, 55)'], ['Road 2: (2, 0)', 'Road 4: (2, 2)'], ['Road 2: (0, 0)', 'Road 8: (0, 0)'], ['Road 7: (93, 0)', 'Road 4: (2, 98)'], ['Road 7: (39, 0)', 'Road 4: (2, 40)'], ['Road 1: (67, 0)', 'Road 4: (2, 92)'], ['Road 7: (21, 0)', 'Road 4: (3, 36)'], ['Road 7: (19, 0)', 'Road 4: (4, 22)'], ['Road 7: (16, 0)', 'Road 4: (6, 18)']]\n"
     ]
    }
   ],
   "source": [
    "group2=[]\n",
    "\n",
    "csv_list=[]\n",
    "\n",
    "for i, (q_value_n, q_value_c) in enumerate(zip(policy_n,policy_c)):\n",
    "    #print(n.world.state_index_to_point(i))\n",
    "    coord = n.world.state_index_to_point(i)\n",
    "    temp_list=[]\n",
    "    #print(q_value_n)\n",
    "    #print(q_value_c)\n",
    "    \n",
    "    impossible_actions = remove_actions(i)\n",
    "    print(impossible_actions)\n",
    "    \n",
    "    # Descending sorting of indexes with argmax\n",
    "    sort_n = np.argsort(q_value_n)\n",
    "    sort_c = np.argsort(q_value_c)\n",
    "    #print(sort_n)\n",
    "    #print(sort_c)\n",
    "    \n",
    "    sort_n = np.setdiff1d(sort_n, impossible_actions, assume_unique=True)\n",
    "    sort_c = np.setdiff1d(sort_c, impossible_actions, assume_unique=True)\n",
    "        \n",
    "    #print(sort_n)\n",
    "    #print(sort_c)\n",
    "    #break\n",
    "    \n",
    "    # Take the index that maximize the value\n",
    "    value_c = sort_c[-1]\n",
    "    value_n = sort_n[-1]\n",
    "    #print(value_n)\n",
    "    #print(value_c)\n",
    "    \n",
    "    j = 1\n",
    "    n_elem = len(sort_c)\n",
    "    while(value_c == value_n and j<n_elem):\n",
    "        value_c = sort_c[n_elem-j]\n",
    "        value_n = sort_n[n_elem-j]\n",
    "        j += 1\n",
    "    \n",
    "    while(value_c == value_n):\n",
    "        print(\"Same action\")\n",
    "        value_c = np.random.choice(sort_c, 1)[0]\n",
    "        value_n = np.random.choice(sort_n, 1)[0]\n",
    "    \n",
    "    text = f\"You are driving your car and arrive at an intersection. \\\n",
    "    There are several possible roads in which one can exit.  You have to decide where to proceed.\\\n",
    "    For each road, you have two pieces of information: \\n \\n \\\n",
    "    how good the road is in terms of getting you to the destination quickly, but possibly unsafely;\\n \\\n",
    "    how good the road is in terms of getting you to the destination safely but with possible delay. \\n \\\n",
    "    \\n \\n \"\n",
    "    \n",
    "    text += f\"Road {value_n+1}: ({int(q_value_n[value_n] * 100)}, {int(q_value_c[value_n] * 100)}) \\n \\\n",
    "    Road {value_c+1}: ({int(q_value_n[value_c] * 100)}, {int(q_value_c[value_c] * 100)}) \\n \"\n",
    "    \n",
    "    temp_list.append(f\"Road {value_n+1}: ({int(q_value_n[value_n] * 100)}, {int(q_value_c[value_n] * 100)})\")\n",
    "    temp_list.append(f\"Road {value_c+1}: ({int(q_value_n[value_c] * 100)}, {int(q_value_c[value_c] * 100)})\")\n",
    "    \n",
    "    text += f\"\\n Please choose one of the roads out of the intersection.\"\n",
    "    #print(text)\n",
    "    group2.append(text)\n",
    "    csv_list.append(temp_list)\n",
    "    \n",
    "#print(csv_list)\n",
    "\n",
    "fileName = 'group2_list'\n",
    "fileObject = open(fileName, 'wb')\n",
    "pkl.dump(group2, fileObject)\n",
    "fileObject.close()\n",
    "    "
   ]
  },
  {
   "cell_type": "markdown",
   "metadata": {},
   "source": [
    "Text Group 1"
   ]
  },
  {
   "cell_type": "code",
   "execution_count": 35,
   "metadata": {
    "collapsed": true
   },
   "outputs": [
    {
     "name": "stdout",
     "output_type": "stream",
     "text": [
      "[0 3 4 6 7]\n",
      "[1 2 5]\n",
      "[3 6 7]\n",
      "[0 1 2 4 5]\n",
      "[3 6 7]\n",
      "[0 1 2 4 5]\n",
      "[3 6 7]\n",
      "[0 1 2 4 5]\n",
      "[3 6 7]\n",
      "[0 1 2 4 5]\n",
      "[3 6 7]\n",
      "[0 1 2 4 5]\n",
      "[3 6 7]\n",
      "[0 1 2 4 5]\n",
      "[3 6 7]\n",
      "[0 1 2 4 5]\n",
      "[1 3 5 6 7]\n",
      "[0 2 4]\n",
      "[0 4 6]\n",
      "[1 2 3 5 7]\n",
      "[]\n",
      "[0 1 2 3 4 5 6 7]\n",
      "[]\n",
      "[0 1 2 3 4 5 6 7]\n",
      "[]\n",
      "[0 1 2 3 4 5 6 7]\n",
      "[]\n",
      "[0 1 2 3 4 5 6 7]\n",
      "[]\n",
      "[0 1 2 3 4 5 6 7]\n",
      "[]\n",
      "[0 1 2 3 4 5 6 7]\n",
      "[]\n",
      "[0 1 2 3 4 5 6 7]\n",
      "[1 5 7]\n",
      "[0 2 3 4 6]\n",
      "[0 4 6]\n",
      "[1 2 3 5 7]\n",
      "[]\n",
      "[0 1 2 3 4 5 6 7]\n",
      "[]\n",
      "[0 1 2 3 4 5 6 7]\n",
      "[]\n",
      "[0 1 2 3 4 5 6 7]\n",
      "[]\n",
      "[0 1 2 3 4 5 6 7]\n",
      "[]\n",
      "[0 1 2 3 4 5 6 7]\n",
      "[]\n",
      "[0 1 2 3 4 5 6 7]\n",
      "[]\n",
      "[0 1 2 3 4 5 6 7]\n",
      "[1 5 7]\n",
      "[0 2 3 4 6]\n",
      "[0 4 6]\n",
      "[1 2 3 5 7]\n",
      "[]\n",
      "[0 1 2 3 4 5 6 7]\n",
      "[]\n",
      "[0 1 2 3 4 5 6 7]\n",
      "[]\n",
      "[0 1 2 3 4 5 6 7]\n",
      "[]\n",
      "[0 1 2 3 4 5 6 7]\n",
      "[]\n",
      "[0 1 2 3 4 5 6 7]\n",
      "[]\n",
      "[0 1 2 3 4 5 6 7]\n",
      "[]\n",
      "[0 1 2 3 4 5 6 7]\n",
      "[1 5 7]\n",
      "[0 2 3 4 6]\n",
      "[0 4 6]\n",
      "[1 2 3 5 7]\n",
      "[]\n",
      "[0 1 2 3 4 5 6 7]\n",
      "[]\n",
      "[0 1 2 3 4 5 6 7]\n",
      "[]\n",
      "[0 1 2 3 4 5 6 7]\n",
      "[]\n",
      "[0 1 2 3 4 5 6 7]\n",
      "[]\n",
      "[0 1 2 3 4 5 6 7]\n",
      "[]\n",
      "[0 1 2 3 4 5 6 7]\n",
      "[]\n",
      "[0 1 2 3 4 5 6 7]\n",
      "[1 5 7]\n",
      "[0 2 3 4 6]\n",
      "[0 4 6]\n",
      "[1 2 3 5 7]\n",
      "[]\n",
      "[0 1 2 3 4 5 6 7]\n",
      "[]\n",
      "[0 1 2 3 4 5 6 7]\n",
      "[]\n",
      "[0 1 2 3 4 5 6 7]\n",
      "[]\n",
      "[0 1 2 3 4 5 6 7]\n",
      "[]\n",
      "[0 1 2 3 4 5 6 7]\n",
      "[]\n",
      "[0 1 2 3 4 5 6 7]\n",
      "[]\n",
      "[0 1 2 3 4 5 6 7]\n",
      "[1 5 7]\n",
      "[0 2 3 4 6]\n",
      "[0 4 6]\n",
      "[1 2 3 5 7]\n",
      "[]\n",
      "[0 1 2 3 4 5 6 7]\n",
      "[]\n",
      "[0 1 2 3 4 5 6 7]\n",
      "[]\n",
      "[0 1 2 3 4 5 6 7]\n",
      "[]\n",
      "[0 1 2 3 4 5 6 7]\n",
      "[]\n",
      "[0 1 2 3 4 5 6 7]\n",
      "[]\n",
      "[0 1 2 3 4 5 6 7]\n",
      "[]\n",
      "[0 1 2 3 4 5 6 7]\n",
      "[1 5 7]\n",
      "[0 2 3 4 6]\n",
      "[0 4 6]\n",
      "[1 2 3 5 7]\n",
      "[]\n",
      "[0 1 2 3 4 5 6 7]\n",
      "[]\n",
      "[0 1 2 3 4 5 6 7]\n",
      "[]\n",
      "[0 1 2 3 4 5 6 7]\n",
      "[]\n",
      "[0 1 2 3 4 5 6 7]\n",
      "[]\n",
      "[0 1 2 3 4 5 6 7]\n",
      "[]\n",
      "[0 1 2 3 4 5 6 7]\n",
      "[]\n",
      "[0 1 2 3 4 5 6 7]\n",
      "[1 5 7]\n",
      "[0 2 3 4 6]\n",
      "[0 2 4 5 6]\n",
      "[1 3 7]\n",
      "[2 4 5]\n",
      "[0 1 3 6 7]\n",
      "[2 4 5]\n",
      "[0 1 3 6 7]\n",
      "[2 4 5]\n",
      "[0 1 3 6 7]\n",
      "[2 4 5]\n",
      "[0 1 3 6 7]\n",
      "[2 4 5]\n",
      "[0 1 3 6 7]\n",
      "[2 4 5]\n",
      "[0 1 3 6 7]\n",
      "[2 4 5]\n",
      "[0 1 3 6 7]\n",
      "[1 2 4 5 7]\n",
      "[0 3 6]\n",
      "[['Road 2: (10, 0)', 'Road 3: (52, 0)', 'Road 6: (17, 100)'], ['Road 1: (5, 0)', 'Road 2: (8, 2)', 'Road 3: (53, 96)', 'Road 5: (8, 0)', 'Road 6: (13, 1)'], ['Road 1: (6, 0)', 'Road 2: (6, 14)', 'Road 3: (54, 58)', 'Road 5: (10, 0)', 'Road 6: (10, 1)'], ['Road 1: (8, 29)', 'Road 2: (5, 34)', 'Road 3: (53, 10)', 'Road 5: (14, 0)', 'Road 6: (7, 0)'], ['Road 1: (10, 11)', 'Road 2: (4, 58)', 'Road 3: (50, 0)', 'Road 5: (17, 0)', 'Road 6: (5, 6)'], ['Road 1: (14, 5)', 'Road 2: (4, 58)', 'Road 3: (45, 8)', 'Road 5: (20, 0)', 'Road 6: (3, 8)'], ['Road 1: (18, 6)', 'Road 2: (3, 39)', 'Road 3: (39, 15)', 'Road 5: (22, 0)', 'Road 6: (3, 9)'], ['Road 1: (22, 13)', 'Road 2: (4, 27)', 'Road 3: (33, 23)', 'Road 5: (22, 0)', 'Road 6: (2, 6)'], ['Road 1: (23, 19)', 'Road 3: (29, 24)', 'Road 5: (18, 0)'], ['Road 2: (8, 4)', 'Road 3: (59, 0)', 'Road 4: (0, 0)', 'Road 6: (22, 95)', 'Road 8: (0, 0)'], ['Road 1: (3, 0)', 'Road 2: (6, 0)', 'Road 3: (63, 99)', 'Road 4: (0, 0)', 'Road 5: (8, 0)', 'Road 6: (17, 0)', 'Road 7: (0, 0)', 'Road 8: (0, 0)'], ['Road 1: (4, 96)', 'Road 2: (4, 0)', 'Road 3: (65, 0)', 'Road 4: (0, 2)', 'Road 5: (12, 0)', 'Road 6: (11, 0)', 'Road 7: (0, 0)', 'Road 8: (0, 0)'], ['Road 1: (6, 69)', 'Road 2: (3, 0)', 'Road 3: (63, 0)', 'Road 4: (0, 17)', 'Road 5: (17, 0)', 'Road 6: (7, 7)', 'Road 7: (0, 0)', 'Road 8: (0, 6)'], ['Road 1: (9, 6)', 'Road 2: (2, 33)', 'Road 3: (58, 23)', 'Road 4: (0, 21)', 'Road 5: (23, 0)', 'Road 6: (5, 0)', 'Road 7: (0, 0)', 'Road 8: (0, 15)'], ['Road 1: (12, 0)', 'Road 2: (2, 50)', 'Road 3: (50, 0)', 'Road 4: (1, 21)', 'Road 5: (29, 0)', 'Road 6: (3, 10)', 'Road 7: (0, 0)', 'Road 8: (0, 17)'], ['Road 1: (17, 3)', 'Road 2: (2, 40)', 'Road 3: (42, 13)', 'Road 4: (1, 23)', 'Road 5: (32, 0)', 'Road 6: (2, 10)', 'Road 7: (0, 0)', 'Road 8: (0, 8)'], ['Road 1: (23, 8)', 'Road 2: (2, 28)', 'Road 3: (35, 26)', 'Road 4: (2, 22)', 'Road 5: (32, 0)', 'Road 6: (2, 8)', 'Road 7: (1, 0)', 'Road 8: (0, 5)'], ['Road 1: (25, 17)', 'Road 3: (30, 29)', 'Road 4: (3, 20)', 'Road 5: (25, 0)', 'Road 7: (1, 0)'], ['Road 2: (7, 0)', 'Road 3: (59, 93)', 'Road 4: (0, 0)', 'Road 6: (26, 6)', 'Road 8: (0, 0)'], ['Road 1: (2, 0)', 'Road 2: (4, 0)', 'Road 3: (65, 99)', 'Road 4: (0, 0)', 'Road 5: (7, 0)', 'Road 6: (19, 0)', 'Road 7: (0, 0)', 'Road 8: (0, 0)'], ['Road 1: (3, 68)', 'Road 2: (3, 0)', 'Road 3: (69, 31)', 'Road 4: (0, 0)', 'Road 5: (11, 0)', 'Road 6: (11, 0)', 'Road 7: (0, 0)', 'Road 8: (0, 0)'], ['Road 1: (4, 0)', 'Road 2: (2, 14)', 'Road 3: (65, 0)', 'Road 4: (0, 3)', 'Road 5: (19, 0)', 'Road 6: (6, 81)', 'Road 7: (0, 0)', 'Road 8: (0, 0)'], ['Road 1: (7, 0)', 'Road 2: (1, 0)', 'Road 3: (57, 96)', 'Road 4: (0, 0)', 'Road 5: (28, 0)', 'Road 6: (3, 1)', 'Road 7: (0, 0)', 'Road 8: (0, 1)'], ['Road 1: (12, 7)', 'Road 2: (1, 46)', 'Road 3: (46, 17)', 'Road 4: (0, 11)', 'Road 5: (37, 0)', 'Road 6: (2, 5)', 'Road 7: (0, 0)', 'Road 8: (0, 11)'], ['Road 1: (18, 0)', 'Road 2: (1, 51)', 'Road 3: (35, 8)', 'Road 4: (0, 16)', 'Road 5: (41, 0)', 'Road 6: (1, 13)', 'Road 7: (0, 0)', 'Road 8: (0, 10)'], ['Road 1: (27, 6)', 'Road 2: (1, 31)', 'Road 3: (27, 25)', 'Road 4: (1, 19)', 'Road 5: (39, 0)', 'Road 6: (1, 11)', 'Road 7: (1, 0)', 'Road 8: (0, 5)'], ['Road 1: (30, 15)', 'Road 3: (24, 36)', 'Road 4: (2, 16)', 'Road 5: (28, 0)', 'Road 7: (1, 0)'], ['Road 2: (6, 1)', 'Road 3: (54, 78)', 'Road 4: (0, 0)', 'Road 6: (33, 16)', 'Road 8: (0, 0)'], ['Road 1: (1, 4)', 'Road 2: (3, 0)', 'Road 3: (66, 95)', 'Road 4: (0, 0)', 'Road 5: (5, 0)', 'Road 6: (22, 0)', 'Road 7: (0, 0)', 'Road 8: (0, 0)'], ['Road 1: (2, 100)', 'Road 2: (2, 0)', 'Road 3: (74, 0)', 'Road 4: (0, 0)', 'Road 5: (10, 0)', 'Road 6: (10, 0)', 'Road 7: (0, 0)', 'Road 8: (0, 0)'], ['Road 1: (3, 74)', 'Road 2: (1, 1)', 'Road 3: (66, 0)', 'Road 4: (0, 0)', 'Road 5: (23, 0)', 'Road 6: (4, 23)', 'Road 7: (0, 0)', 'Road 8: (0, 0)'], ['Road 1: (6, 0)', 'Road 2: (0, 0)', 'Road 3: (52, 99)', 'Road 4: (0, 0)', 'Road 5: (37, 0)', 'Road 6: (1, 0)', 'Road 7: (0, 0)', 'Road 8: (0, 0)'], ['Road 1: (12, 84)', 'Road 2: (0, 10)', 'Road 3: (36, 0)', 'Road 4: (0, 0)', 'Road 5: (48, 0)', 'Road 6: (0, 0)', 'Road 7: (0, 0)', 'Road 8: (0, 4)'], ['Road 1: (22, 4)', 'Road 2: (0, 44)', 'Road 3: (22, 0)', 'Road 4: (0, 11)', 'Road 5: (51, 0)', 'Road 6: (0, 31)', 'Road 7: (0, 0)', 'Road 8: (0, 8)'], ['Road 1: (35, 1)', 'Road 2: (1, 27)', 'Road 3: (19, 40)', 'Road 4: (1, 11)', 'Road 5: (41, 0)', 'Road 6: (0, 14)', 'Road 7: (1, 0)', 'Road 8: (0, 3)'], ['Road 1: (37, 9)', 'Road 3: (18, 48)', 'Road 4: (2, 12)', 'Road 5: (28, 0)', 'Road 7: (2, 0)'], ['Road 2: (6, 4)', 'Road 3: (42, 56)', 'Road 4: (0, 0)', 'Road 6: (47, 35)', 'Road 8: (0, 0)'], ['Road 1: (0, 2)', 'Road 2: (2, 0)', 'Road 3: (64, 85)', 'Road 4: (0, 0)', 'Road 5: (2, 0)', 'Road 6: (29, 11)', 'Road 7: (0, 0)', 'Road 8: (0, 0)'], ['Road 1: (1, 4)', 'Road 2: (1, 0)', 'Road 3: (79, 95)', 'Road 4: (0, 0)', 'Road 5: (8, 0)', 'Road 6: (8, 0)', 'Road 7: (0, 0)', 'Road 8: (0, 0)'], ['Road 1: (2, 0)', 'Road 2: (0, 5)', 'Road 3: (64, 0)', 'Road 4: (0, 0)', 'Road 5: (29, 0)', 'Road 6: (2, 94)', 'Road 7: (0, 0)', 'Road 8: (0, 0)'], ['Road 1: (6, 0)', 'Road 2: (0, 0)', 'Road 3: (40, 99)', 'Road 4: (0, 0)', 'Road 5: (51, 0)', 'Road 6: (0, 0)', 'Road 7: (0, 0)', 'Road 8: (0, 0)'], ['Road 1: (15, 33)', 'Road 2: (0, 0)', 'Road 3: (15, 64)', 'Road 4: (0, 0)', 'Road 5: (67, 0)', 'Road 6: (0, 1)', 'Road 7: (0, 0)', 'Road 8: (0, 0)'], ['Road 1: (36, 0)', 'Road 2: (0, 11)', 'Road 3: (12, 73)', 'Road 4: (0, 0)', 'Road 5: (48, 0)', 'Road 6: (0, 13)', 'Road 7: (0, 0)', 'Road 8: (0, 0)'], ['Road 1: (46, 0)', 'Road 2: (0, 18)', 'Road 3: (12, 63)', 'Road 4: (1, 3)', 'Road 5: (36, 0)', 'Road 6: (0, 12)', 'Road 7: (2, 0)', 'Road 8: (0, 1)'], ['Road 1: (45, 11)', 'Road 3: (13, 54)', 'Road 4: (2, 7)', 'Road 5: (26, 0)', 'Road 7: (2, 0)'], ['Road 2: (7, 9)', 'Road 3: (9, 9)', 'Road 4: (0, 0)', 'Road 6: (80, 77)', 'Road 8: (0, 0)'], ['Road 1: (0, 0)', 'Road 2: (2, 0)', 'Road 3: (53, 56)', 'Road 4: (0, 0)', 'Road 5: (0, 0)', 'Road 6: (43, 41)', 'Road 7: (0, 0)', 'Road 8: (0, 0)'], ['Road 1: (0, 0)', 'Road 2: (0, 0)', 'Road 3: (87, 98)', 'Road 4: (0, 0)', 'Road 5: (5, 0)', 'Road 6: (5, 0)', 'Road 7: (0, 0)', 'Road 8: (0, 0)'], ['Road 1: (2, 18)', 'Road 2: (0, 0)', 'Road 3: (53, 81)', 'Road 4: (0, 0)', 'Road 5: (43, 0)', 'Road 6: (0, 0)', 'Road 7: (0, 0)', 'Road 8: (0, 0)'], ['Road 1: (8, 0)', 'Road 2: (0, 0)', 'Road 3: (8, 99)', 'Road 4: (0, 0)', 'Road 5: (83, 0)', 'Road 6: (0, 0)', 'Road 7: (0, 0)', 'Road 8: (0, 0)'], ['Road 1: (40, 98)', 'Road 2: (0, 0)', 'Road 3: (6, 0)', 'Road 4: (0, 0)', 'Road 5: (51, 0)', 'Road 6: (0, 1)', 'Road 7: (0, 0)', 'Road 8: (0, 0)'], ['Road 1: (52, 26)', 'Road 2: (0, 2)', 'Road 3: (6, 65)', 'Road 4: (0, 0)', 'Road 5: (37, 0)', 'Road 6: (0, 4)', 'Road 7: (1, 0)', 'Road 8: (0, 0)'], ['Road 1: (57, 11)', 'Road 2: (0, 8)', 'Road 3: (7, 72)', 'Road 4: (1, 1)', 'Road 5: (29, 0)', 'Road 6: (0, 5)', 'Road 7: (3, 0)', 'Road 8: (0, 0)'], ['Road 1: (52, 18)', 'Road 3: (9, 52)', 'Road 4: (2, 5)', 'Road 5: (21, 0)', 'Road 7: (4, 0)'], ['Road 2: (52, 64)', 'Road 3: (2, 0)', 'Road 4: (0, 0)', 'Road 6: (42, 32)', 'Road 8: (0, 0)'], ['Road 1: (0, 0)', 'Road 2: (2, 2)', 'Road 3: (2, 1)', 'Road 4: (0, 0)', 'Road 5: (0, 0)', 'Road 6: (95, 95)', 'Road 7: (0, 0)', 'Road 8: (0, 0)'], ['Road 1: (0, 0)', 'Road 2: (0, 0)', 'Road 3: (99, 99)', 'Road 4: (0, 0)', 'Road 5: (0, 0)', 'Road 6: (0, 0)', 'Road 7: (0, 0)', 'Road 8: (0, 0)'], ['Road 1: (2, 63)', 'Road 2: (0, 0)', 'Road 3: (2, 36)', 'Road 4: (0, 0)', 'Road 5: (95, 0)', 'Road 6: (0, 0)', 'Road 7: (0, 0)', 'Road 8: (0, 0)'], ['Road 1: (53, 82)', 'Road 2: (0, 0)', 'Road 3: (2, 17)', 'Road 4: (0, 0)', 'Road 5: (43, 0)', 'Road 6: (0, 0)', 'Road 7: (0, 0)', 'Road 8: (0, 0)'], ['Road 1: (64, 83)', 'Road 2: (0, 0)', 'Road 3: (2, 16)', 'Road 4: (0, 0)', 'Road 5: (29, 0)', 'Road 6: (0, 0)', 'Road 7: (2, 0)', 'Road 8: (0, 0)'], ['Road 1: (66, 0)', 'Road 2: (0, 2)', 'Road 3: (3, 95)', 'Road 4: (1, 0)', 'Road 5: (23, 0)', 'Road 6: (0, 2)', 'Road 7: (4, 0)', 'Road 8: (0, 0)'], ['Road 1: (65, 36)', 'Road 2: (0, 4)', 'Road 3: (5, 54)', 'Road 4: (2, 1)', 'Road 5: (20, 0)', 'Road 6: (0, 2)', 'Road 7: (6, 0)', 'Road 8: (0, 0)'], ['Road 1: (57, 40)', 'Road 3: (6, 34)', 'Road 4: (3, 4)', 'Road 5: (16, 0)', 'Road 7: (7, 0)'], ['Road 2: (85, 83)', 'Road 3: (0, 0)', 'Road 4: (0, 1)', 'Road 6: (6, 5)', 'Road 8: (5, 8)'], ['Road 1: (0, 0)', 'Road 2: (99, 99)', 'Road 3: (0, 0)', 'Road 4: (0, 0)', 'Road 5: (0, 0)', 'Road 6: (0, 0)', 'Road 7: (0, 0)', 'Road 8: (0, 0)'], ['Road 1: (22, 24)', 'Road 2: (22, 20)', 'Road 3: (26, 0)', 'Road 4: (22, 35)', 'Road 5: (1, 0)', 'Road 6: (1, 0)', 'Road 7: (1, 0)', 'Road 8: (1, 0)'], ['Road 1: (99, 99)', 'Road 2: (0, 0)', 'Road 3: (0, 0)', 'Road 4: (0, 0)', 'Road 5: (0, 0)', 'Road 6: (0, 0)', 'Road 7: (0, 0)', 'Road 8: (0, 0)'], ['Road 1: (86, 99)', 'Road 2: (0, 0)', 'Road 3: (0, 0)', 'Road 4: (0, 0)', 'Road 5: (6, 0)', 'Road 6: (0, 0)', 'Road 7: (5, 0)', 'Road 8: (0, 0)'], ['Road 1: (78, 99)', 'Road 2: (0, 0)', 'Road 3: (1, 0)', 'Road 4: (1, 0)', 'Road 5: (10, 0)', 'Road 6: (0, 0)', 'Road 7: (8, 0)', 'Road 8: (0, 0)'], ['Road 1: (73, 98)', 'Road 2: (0, 0)', 'Road 3: (2, 1)', 'Road 4: (1, 0)', 'Road 5: (11, 0)', 'Road 6: (0, 0)', 'Road 7: (10, 0)', 'Road 8: (0, 0)'], ['Road 1: (69, 90)', 'Road 2: (0, 1)', 'Road 3: (3, 4)', 'Road 4: (3, 2)', 'Road 5: (12, 0)', 'Road 6: (0, 0)', 'Road 7: (11, 0)', 'Road 8: (0, 0)'], ['Road 1: (60, 66)', 'Road 3: (4, 9)', 'Road 4: (4, 5)', 'Road 5: (11, 0)', 'Road 7: (10, 0)'], ['Road 2: (55, 55)', 'Road 4: (2, 0)', 'Road 8: (38, 40)'], ['Road 1: (0, 0)', 'Road 2: (2, 0)', 'Road 4: (2, 2)', 'Road 7: (0, 0)', 'Road 8: (93, 97)'], ['Road 1: (0, 0)', 'Road 2: (0, 0)', 'Road 4: (98, 99)', 'Road 7: (0, 0)', 'Road 8: (0, 0)'], ['Road 1: (2, 0)', 'Road 2: (0, 0)', 'Road 4: (2, 98)', 'Road 7: (93, 0)', 'Road 8: (0, 0)'], ['Road 1: (56, 59)', 'Road 2: (0, 0)', 'Road 4: (2, 40)', 'Road 7: (39, 0)', 'Road 8: (0, 0)'], ['Road 1: (67, 0)', 'Road 2: (0, 0)', 'Road 4: (2, 92)', 'Road 7: (26, 0)', 'Road 8: (0, 0)'], ['Road 1: (70, 48)', 'Road 2: (0, 1)', 'Road 4: (3, 36)', 'Road 7: (21, 0)', 'Road 8: (0, 0)'], ['Road 1: (69, 58)', 'Road 2: (0, 3)', 'Road 4: (4, 22)', 'Road 7: (19, 0)', 'Road 8: (0, 0)'], ['Road 1: (61, 48)', 'Road 4: (6, 18)', 'Road 7: (16, 0)']]\n"
     ]
    }
   ],
   "source": [
    "group1=[]\n",
    "csv_list_1 = []\n",
    "\n",
    "for i, (q_value_n, q_value_c) in enumerate(zip(policy_n,policy_c)):\n",
    "    temp_list=[]\n",
    "    #print(n.world.state_index_to_point(i))\n",
    "    coord = n.world.state_index_to_point(i)\n",
    "    #print(q_value_n, q_value_c)\n",
    "    impossible_actions = remove_actions(i)\n",
    "    possible_actions = np.setdiff1d([0,1,2,3,4,5,6,7], impossible_actions, assume_unique=True)\n",
    "    #print(impossible_actions)\n",
    "    #print(possible_actions)\n",
    "    \n",
    "    text = f\"You are driving your car and arrive at an intersection. \\\n",
    "    There are several possible roads in which one can exit.  You have to decide where to proceed.\\\n",
    "    For each road, you have two pieces of information: \\n \\n \\\n",
    "    how good the road is in terms of getting you to the destination quickly, but possibly unsafely;\\n \\\n",
    "    how good the road is in terms of getting you to the destination safely but with possible delay. \\n \\\n",
    "    \\n \\n \"\n",
    "    \n",
    "    for action in possible_actions:\n",
    "        #print(action)\n",
    "        #text += f\"{Directions.ALL_DIRECTIONS[action]}: ({int(q_value_n[action] * 100)}, {int(q_value_c[action] * 100)}) \\n\"\n",
    "        text += f\"Road {action+1}: ({int(q_value_n[action] * 100)}, {int(q_value_c[action] * 100)}) \\n\"\n",
    "        temp_list.append(f\"Road {action+1}: ({int(q_value_n[action] * 100)}, {int(q_value_c[action] * 100)})\")\n",
    "\n",
    "    text += f\"\\n Please choose one of the roads out of the intersection.\"\n",
    "    #print(text)\n",
    "    group1.append(text)\n",
    "    csv_list_1.append(temp_list)\n",
    "\n",
    "#print(csv_list_1)\n",
    "fileName = 'group1_list'\n",
    "fileObject = open(fileName, 'wb')\n",
    "pkl.dump(group1, fileObject)\n",
    "fileObject.close()"
   ]
  },
  {
   "cell_type": "code",
   "execution_count": 19,
   "metadata": {},
   "outputs": [
    {
     "data": {
      "text/plain": [
       "'You are driving your car and arrive at an intersection.     There are several possible roads in which one can exit.  You have to decide where to proceed.    For each road, you have two pieces of information: \\n \\n     how good the road is in terms of getting you to the destination quickly, but possibly unsafely;\\n     how good the road is in terms of getting you to the destination safely but with possible delay. \\n     \\n \\n Road 2: (10, 0) \\nRoad 3: (52, 0) \\nRoad 6: (17, 100) \\n\\n Please choose one of the roads out of the intersection.'"
      ]
     },
     "execution_count": 19,
     "metadata": {},
     "output_type": "execute_result"
    }
   ],
   "source": [
    "group1[0]"
   ]
  },
  {
   "cell_type": "code",
   "execution_count": 12,
   "metadata": {},
   "outputs": [],
   "source": [
    "with open('group2_list', 'rb') as f:\n",
    "    group2_read = pickle.load(f)"
   ]
  },
  {
   "cell_type": "code",
   "execution_count": 14,
   "metadata": {},
   "outputs": [
    {
     "data": {
      "text/plain": [
       "'You are driving your car and arrive at an intersection.     There are several possible roads in which one can exit.  You have to decide where to proceed.    For each road, you have two pieces of information: \\n \\n     how good the road is in terms of getting you to the destination quickly, but possibly unsafely;\\n     how good the road is in terms of getting you to the destination safely but with possible delay. \\n     \\n \\n Road 3: (52, 0) \\n     Road 6: (17, 100) \\n \\n Please choose one of the roads out of the intersection.'"
      ]
     },
     "execution_count": 14,
     "metadata": {},
     "output_type": "execute_result"
    }
   ],
   "source": [
    "group2_read[0]"
   ]
  },
  {
   "cell_type": "code",
   "execution_count": 20,
   "metadata": {},
   "outputs": [],
   "source": [
    "import csv"
   ]
  },
  {
   "cell_type": "code",
   "execution_count": 24,
   "metadata": {},
   "outputs": [],
   "source": [
    "textfile = open(\"group1.txt\", \"w\")\n",
    "for element in group1:\n",
    "    textfile.write(element + \"\\n##############################\\n\")\n",
    "textfile.close()"
   ]
  },
  {
   "cell_type": "code",
   "execution_count": 25,
   "metadata": {},
   "outputs": [],
   "source": [
    "textfile = open(\"group2.txt\", \"w\")\n",
    "for element in group2:\n",
    "    textfile.write(element + \"\\n##############################\\n\")\n",
    "textfile.close()"
   ]
  },
  {
   "cell_type": "code",
   "execution_count": 31,
   "metadata": {},
   "outputs": [],
   "source": [
    "csv_list = np.array(csv_list)"
   ]
  },
  {
   "cell_type": "code",
   "execution_count": 34,
   "metadata": {},
   "outputs": [],
   "source": [
    "with open('group2.csv', 'w') as f:\n",
    "    mywriter = csv.writer(f, delimiter=',')\n",
    "    mywriter.writerows(csv_list)  "
   ]
  },
  {
   "cell_type": "code",
   "execution_count": 36,
   "metadata": {},
   "outputs": [],
   "source": [
    "with open('group1.csv', 'w') as f:\n",
    "    mywriter = csv.writer(f, delimiter=',')\n",
    "    mywriter.writerows(csv_list_1) "
   ]
  },
  {
   "cell_type": "code",
   "execution_count": 23,
   "metadata": {},
   "outputs": [],
   "source": [
    "#count_stat = count_states(demo_c.trajectories, c_cfg.mdp, n, constraints, normalize = False)\n",
    "count_stat = count_states(demo_n.trajectories, n_cfg.mdp, n, constraints, normalize = False)"
   ]
  },
  {
   "cell_type": "code",
   "execution_count": 24,
   "metadata": {},
   "outputs": [
    {
     "data": {
      "text/plain": [
       "0.0"
      ]
     },
     "execution_count": 24,
     "metadata": {},
     "output_type": "execute_result"
    }
   ],
   "source": [
    "np.sum(count_stat[0][0][0])"
   ]
  },
  {
   "cell_type": "code",
   "execution_count": 25,
   "metadata": {},
   "outputs": [
    {
     "data": {
      "image/png": "[encoded data removed]",
      "text/plain": [
       "<Figure size 1152x432 with 1 Axes>"
      ]
     },
     "metadata": {
      "needs_background": "light"
     },
     "output_type": "display_data"
    }
   ],
   "source": [
    "from mpl_toolkits.mplot3d import Axes3D \n",
    "\n",
    "def f():\n",
    "    Z = []\n",
    "\n",
    "    for x in range(9):\n",
    "        temp_grid = []\n",
    "        for y in range(9):\n",
    "            #print(f\"({x},{y})\")\n",
    "            temp_grid.append(np.sum(count_stat[0][y][8-x]))\n",
    "            \n",
    "        #print(temp_grid)\n",
    "        Z.append(temp_grid)\n",
    "    return Z\n",
    "\n",
    "x = [i for i in range(9)] #np.linspace(0, 9, 1)\n",
    "y = [i for i in range(9)] #np.linspace(0, 9, 1)\n",
    "\n",
    "\n",
    "_xx, _yy = np.meshgrid(x, y)\n",
    "x, y = _xx.ravel(), _yy.ravel()\n",
    "Z = f()\n",
    "\n",
    "fig = plt.figure(figsize=(16, 6))\n",
    "ax1 = fig.add_subplot(121, projection='3d')\n",
    "top = x + y\n",
    "bottom = np.zeros_like(top)\n",
    "width = depth = 1\n",
    "\n",
    "ax1.bar3d(x, y, bottom, width, depth, top, shade=True)\n",
    "ax1.set_title('Shaded')\n",
    "plt.show()"
   ]
  },
  {
   "cell_type": "code",
   "execution_count": 27,
   "metadata": {},
   "outputs": [
    {
     "data": {
      "image/png": "[encoded data removed]",
      "text/plain": [
       "<Figure size 432x288 with 1 Axes>"
      ]
     },
     "metadata": {
      "needs_background": "light"
     },
     "output_type": "display_data"
    },
    {
     "data": {
      "text/plain": [
       "[[0.0, 2.0, 1.0, 1.0, 0.0, 0.0, 0.0, 0.0, 0.0],\n",
       " [0.0, 0.0, 35.0, 8.0, 4.0, 1.0, 1.0, 0.0, 0.0],\n",
       " [3.0, 37.0, 149.0, 57.0, 20.0, 7.0, 3.0, 0.0, 0.0],\n",
       " [2.0, 11.0, 56.0, 110.0, 65.0, 14.0, 9.0, 1.0, 0.0],\n",
       " [2.0, 2.0, 19.0, 63.0, 104.0, 65.0, 21.0, 5.0, 1.0],\n",
       " [0.0, 1.0, 5.0, 22.0, 72.0, 97.0, 75.0, 19.0, 1.0],\n",
       " [0.0, 0.0, 0.0, 11.0, 34.0, 79.0, 126.0, 76.0, 7.0],\n",
       " [0.0, 0.0, 0.0, 2.0, 12.0, 23.0, 88.0, 221.0, 17.0],\n",
       " [0.0, 0.0, 0.0, 0.0, 7.0, 9.0, 15.0, 27.0, 12.0]]"
      ]
     },
     "execution_count": 27,
     "metadata": {},
     "output_type": "execute_result"
    }
   ],
   "source": [
    "plt.imshow(Z, cmap='hot', interpolation='nearest')\n",
    "plt.show()"
   ]
  },
  {
   "cell_type": "code",
   "execution_count": 74,
   "metadata": {},
   "outputs": [
    {
     "data": {
      "text/plain": [
       "[[14, 14, 14, 14, 14, 14, 14, 14, 14],\n",
       " [11, 11, 11, 11, 11, 11, 11, 11, 11],\n",
       " [8, 8, 8, 8, 8, 8, 8, 8, 8],\n",
       " [4, 4, 4, 4, 4, 4, 4, 4, 4],\n",
       " [6, 6, 6, 6, 6, 6, 6, 6, 6],\n",
       " [12, 12, 12, 12, 12, 12, 12, 12, 12],\n",
       " [28, 28, 28, 28, 28, 28, 28, 28, 28],\n",
       " [21, 21, 21, 21, 21, 21, 21, 21, 21],\n",
       " [18, 18, 18, 18, 18, 18, 18, 18, 18]]"
      ]
     },
     "execution_count": 74,
     "metadata": {},
     "output_type": "execute_result"
    }
   ],
   "source": [
    "z_survey=[[14 for i in range(9)],\n",
    "        [11 for i in range(9)],\n",
    "        [8 for i in range(9)],\n",
    "        [4 for i in range(9)],\n",
    "        [6 for i in range(9)],\n",
    "        [12 for i in range(9)],\n",
    "    [28 for i in range(9)],\n",
    "    [21 for i in range(9)],\n",
    "    [18 for i in range(9)]]\n",
    "z_survey"
   ]
  },
  {
   "cell_type": "code",
   "execution_count": 129,
   "metadata": {},
   "outputs": [
    {
     "data": {
      "image/png": "[encoded data removed]",
      "text/plain": [
       "<Figure size 1152x432 with 2 Axes>"
      ]
     },
     "metadata": {
      "needs_background": "light"
     },
     "output_type": "display_data"
    }
   ],
   "source": [
    "fig = plt.figure(figsize=(16, 6))\n",
    "ax1 = fig.add_subplot(121)\n",
    "ax2 = fig.add_subplot(122)\n",
    "ax1.imshow(new_matrix, cmap='hot', interpolation='nearest')\n",
    "ax2.imshow(Z, cmap='hot', interpolation='nearest')\n",
    "plt.show()"
   ]
  },
  {
   "cell_type": "code",
   "execution_count": 78,
   "metadata": {},
   "outputs": [],
   "source": [
    "from numpy import genfromtxt\n",
    "my_data = genfromtxt('survey.csv', delimiter=';')"
   ]
  },
  {
   "cell_type": "code",
   "execution_count": 100,
   "metadata": {},
   "outputs": [
    {
     "data": {
      "text/plain": [
       "False"
      ]
     },
     "execution_count": 100,
     "metadata": {},
     "output_type": "execute_result"
    }
   ],
   "source": [
    "my_data[122][82].is_integer()"
   ]
  },
  {
   "cell_type": "code",
   "execution_count": 140,
   "metadata": {},
   "outputs": [
    {
     "data": {
      "text/plain": [
       "[LEFT, RIGHT, UP, DOWN, UP_LEFT, UP_RIGHT, DOWN_LEFT, DOWN_RIGHT]"
      ]
     },
     "execution_count": 140,
     "metadata": {},
     "output_type": "execute_result"
    }
   ],
   "source": [
    "matrix_from_survey = np.zeros((81, 8))\n",
    "Directions.ALL_DIRECTIONS"
   ]
  },
  {
   "cell_type": "code",
   "execution_count": 191,
   "metadata": {
    "collapsed": true
   },
   "outputs": [
    {
     "data": {
      "text/plain": [
       "array([[ 0.,  7.,  2.,  0.,  0.,  5.,  0.,  0.],\n",
       "       [ 1.,  5.,  8.,  0.,  0.,  0.,  0.,  0.],\n",
       "       [ 5.,  3.,  5.,  0.,  1.,  0.,  0.,  0.],\n",
       "       [ 1.,  9.,  2.,  0.,  2.,  0.,  0.,  0.],\n",
       "       [ 2.,  7.,  4.,  0.,  1.,  0.,  0.,  0.],\n",
       "       [ 3.,  5.,  3.,  0.,  2.,  1.,  0.,  0.],\n",
       "       [ 5.,  5.,  2.,  0.,  1.,  1.,  0.,  0.],\n",
       "       [ 2.,  4.,  3.,  0.,  3.,  2.,  0.,  0.],\n",
       "       [ 5.,  0.,  5.,  0.,  4.,  0.,  0.,  0.],\n",
       "       [ 0.,  1.,  3.,  2.,  0.,  4.,  0.,  1.],\n",
       "       [ 1.,  0.,  8.,  1.,  0.,  1.,  0.,  0.],\n",
       "       [ 5.,  0.,  5.,  1.,  0.,  0.,  0.,  0.],\n",
       "       [ 3.,  0.,  1.,  3.,  2.,  1.,  1.,  0.],\n",
       "       [ 0.,  1.,  6.,  2.,  0.,  0.,  0.,  2.],\n",
       "       [ 1.,  6.,  1.,  1.,  1.,  1.,  0.,  0.],\n",
       "       [ 1.,  2.,  4.,  1.,  1.,  2.,  0.,  0.],\n",
       "       [ 0.,  4.,  4.,  2.,  0.,  1.,  0.,  0.],\n",
       "       [ 2.,  0.,  3.,  4.,  1.,  0.,  1.,  0.],\n",
       "       [ 0.,  0.,  6.,  1.,  0.,  1.,  0.,  0.],\n",
       "       [ 1.,  0.,  5.,  0.,  1.,  1.,  0.,  0.],\n",
       "       [ 3.,  1.,  2.,  0.,  1.,  1.,  0.,  0.],\n",
       "       [ 1.,  1.,  1.,  1.,  0.,  4.,  0.,  0.],\n",
       "       [ 1.,  1.,  3.,  0.,  2.,  0.,  1.,  0.],\n",
       "       [ 1.,  2.,  2.,  1.,  1.,  0.,  1.,  0.],\n",
       "       [ 0.,  4.,  2.,  1.,  1.,  0.,  0.,  0.],\n",
       "       [ 0.,  1.,  4.,  1.,  0.,  2.,  0.,  0.],\n",
       "       [ 2.,  0.,  4.,  1.,  0.,  0.,  1.,  0.],\n",
       "       [ 0.,  0.,  3.,  1.,  0.,  0.,  0.,  0.],\n",
       "       [ 0.,  0.,  2.,  1.,  0.,  1.,  0.,  0.],\n",
       "       [ 1.,  0.,  2.,  0.,  0.,  0.,  0.,  1.],\n",
       "       [ 1.,  0.,  2.,  0.,  0.,  0.,  1.,  0.],\n",
       "       [ 0.,  1.,  3.,  0.,  0.,  0.,  0.,  0.],\n",
       "       [ 1.,  0.,  1.,  1.,  1.,  0.,  0.,  0.],\n",
       "       [ 1.,  1.,  0.,  0.,  1.,  0.,  0.,  1.],\n",
       "       [ 1.,  0.,  1.,  0.,  2.,  0.,  0.,  0.],\n",
       "       [ 1.,  0.,  1.,  1.,  1.,  0.,  0.,  0.],\n",
       "       [ 0.,  1.,  3.,  2.,  0.,  0.,  0.,  0.],\n",
       "       [ 0.,  0.,  5.,  0.,  0.,  0.,  1.,  0.],\n",
       "       [ 0.,  0.,  4.,  1.,  1.,  0.,  0.,  0.],\n",
       "       [ 0.,  0.,  0.,  0.,  2.,  3.,  1.,  0.],\n",
       "       [ 1.,  0.,  4.,  0.,  1.,  0.,  0.,  0.],\n",
       "       [ 0.,  0.,  3.,  2.,  0.,  1.,  0.,  0.],\n",
       "       [ 0.,  0.,  4.,  0.,  0.,  1.,  0.,  1.],\n",
       "       [ 1.,  0.,  3.,  1.,  0.,  0.,  1.,  0.],\n",
       "       [ 1.,  0.,  4.,  1.,  0.,  0.,  0.,  0.],\n",
       "       [ 0.,  4.,  3.,  1.,  0.,  4.,  0.,  0.],\n",
       "       [ 0.,  3.,  5.,  2.,  1.,  1.,  0.,  0.],\n",
       "       [ 0.,  0.,  8.,  0.,  2.,  2.,  0.,  0.],\n",
       "       [ 1.,  1.,  6.,  2.,  2.,  0.,  0.,  0.],\n",
       "       [ 0.,  1.,  5.,  2.,  3.,  0.,  1.,  0.],\n",
       "       [ 6.,  1.,  1.,  2.,  1.,  1.,  0.,  0.],\n",
       "       [ 3.,  2.,  3.,  3.,  0.,  0.,  1.,  0.],\n",
       "       [ 2.,  0.,  3.,  2.,  0.,  2.,  1.,  2.],\n",
       "       [ 2.,  5.,  0.,  5.,  0.,  0.,  0.,  0.],\n",
       "       [10.,  0., 10.,  5.,  0.,  2.,  0.,  1.],\n",
       "       [ 6., 11.,  6.,  2.,  2.,  1.,  0.,  0.],\n",
       "       [ 6., 13.,  4.,  4.,  0.,  1.,  0.,  0.],\n",
       "       [ 5., 10., 10.,  2.,  0.,  1.,  0.,  0.],\n",
       "       [ 5., 11.,  7.,  1.,  2.,  2.,  0.,  0.],\n",
       "       [ 4.,  8.,  7.,  4.,  3.,  0.,  2.,  0.],\n",
       "       [ 3., 10.,  7.,  4.,  3.,  0.,  0.,  1.],\n",
       "       [ 5.,  6.,  8.,  2.,  3.,  3.,  0.,  1.],\n",
       "       [ 8., 10.,  0.,  9.,  1.,  0.,  0.,  0.],\n",
       "       [13.,  0.,  4.,  2.,  0.,  2.,  0.,  0.],\n",
       "       [ 1., 12.,  3.,  2.,  2.,  0.,  0.,  1.],\n",
       "       [ 6.,  2.,  3.,  7.,  1.,  0.,  1.,  1.],\n",
       "       [ 8.,  5.,  4.,  2.,  0.,  1.,  0.,  1.],\n",
       "       [10.,  3.,  1.,  3.,  2.,  1.,  0.,  1.],\n",
       "       [10.,  4.,  3.,  2.,  1.,  0.,  0.,  1.],\n",
       "       [ 9.,  5.,  1.,  3.,  1.,  1.,  0.,  1.],\n",
       "       [ 9.,  5.,  1.,  2.,  2.,  2.,  0.,  0.],\n",
       "       [ 9.,  0.,  6.,  4.,  2.,  0.,  0.,  0.],\n",
       "       [ 0., 11.,  0.,  6.,  0.,  0.,  0.,  1.],\n",
       "       [ 2.,  4.,  0.,  6.,  0.,  0.,  2.,  4.],\n",
       "       [ 5.,  1.,  0., 10.,  0.,  0.,  2.,  0.],\n",
       "       [ 2.,  3.,  0.,  8.,  0.,  0.,  4.,  1.],\n",
       "       [ 7.,  3.,  0.,  7.,  0.,  0.,  0.,  1.],\n",
       "       [ 2.,  3.,  0., 10.,  0.,  0.,  3.,  0.],\n",
       "       [ 5.,  4.,  0.,  7.,  0.,  0.,  1.,  1.],\n",
       "       [ 7.,  6.,  0.,  4.,  0.,  0.,  1.,  0.],\n",
       "       [ 7.,  0.,  0.,  9.,  0.,  0.,  2.,  0.]])"
      ]
     },
     "execution_count": 191,
     "metadata": {},
     "output_type": "execute_result"
    }
   ],
   "source": [
    "matrix_from_survey"
   ]
  },
  {
   "cell_type": "code",
   "execution_count": 118,
   "metadata": {},
   "outputs": [],
   "source": [
    "def compute_next_state(state,action):\n",
    "    next_p = n.world.p_transition[state,:,action]\n",
    "    next_s = range(c.world.n_states)\n",
    "    next_state = np.random.choice(next_s, p=next_p)\n",
    "    return next_state"
   ]
  },
  {
   "cell_type": "code",
   "execution_count": 224,
   "metadata": {},
   "outputs": [],
   "source": [
    "def policy_survey(state):\n",
    "    #print(state)\n",
    "    action = random.choice(np.argwhere(matrix_from_survey[state] == np.amax(matrix_from_survey[state])))[0]\n",
    "    return action\n",
    "\n",
    "def policy_stochastic_survey(state):\n",
    "    #print(matrix_from_survey[state])\n",
    "    action = np.random.choice(range(8), p=matrix_from_survey[state]/np.sum(matrix_from_survey[state]))\n",
    "    #action = random.choice(np.argwhere(matrix_from_survey[state] == np.amax(matrix_from_survey[state])))[0]\n",
    "    return action"
   ]
  },
  {
   "cell_type": "code",
   "execution_count": 212,
   "metadata": {
    "collapsed": true
   },
   "outputs": [
    {
     "name": "stdout",
     "output_type": "stream",
     "text": [
      "[[ 0.  7.  2.  0.  0.  5.  0.  0.]\n",
      " [ 1.  5.  8.  0.  0.  0.  0.  0.]\n",
      " [ 5.  3.  5.  0.  1.  0.  0.  0.]\n",
      " [ 1.  9.  2.  0.  2.  0.  0.  0.]\n",
      " [ 2.  7.  4.  0.  1.  0.  0.  0.]\n",
      " [ 3.  5.  3.  0.  2.  1.  0.  0.]\n",
      " [ 5.  5.  2.  0.  1.  1.  0.  0.]\n",
      " [ 2.  4.  3.  0.  3.  2.  0.  0.]\n",
      " [ 5.  0.  5.  0.  4.  0.  0.  0.]\n",
      " [ 0.  1.  3.  2.  0.  4.  0.  1.]\n",
      " [ 1.  0.  8.  1.  0.  1.  0.  0.]\n",
      " [ 5.  0.  5.  1.  0.  0.  0.  0.]\n",
      " [ 3.  0.  1.  3.  2.  1.  1.  0.]\n",
      " [ 0.  1.  6.  2.  0.  0.  0.  2.]\n",
      " [ 1.  6.  1.  1.  1.  1.  0.  0.]\n",
      " [ 1.  2.  4.  1.  1.  2.  0.  0.]\n",
      " [ 0.  4.  4.  2.  0.  1.  0.  0.]\n",
      " [ 2.  0.  3.  4.  1.  0.  1.  0.]\n",
      " [ 0.  0.  6.  1.  0.  1.  0.  0.]\n",
      " [ 1.  0.  5.  0.  1.  1.  0.  0.]\n",
      " [ 3.  1.  2.  0.  1.  1.  0.  0.]\n",
      " [ 1.  1.  1.  1.  0.  4.  0.  0.]\n",
      " [ 1.  1.  3.  0.  2.  0.  1.  0.]\n",
      " [ 1.  2.  2.  1.  1.  0.  1.  0.]\n",
      " [ 0.  4.  2.  1.  1.  0.  0.  0.]\n",
      " [ 0.  1.  4.  1.  0.  2.  0.  0.]\n",
      " [ 2.  0.  4.  1.  0.  0.  1.  0.]\n",
      " [ 0.  0.  3.  1.  0.  0.  0.  0.]\n",
      " [ 0.  0.  2.  1.  0.  1.  0.  0.]\n",
      " [ 1.  0.  2.  0.  0.  0.  0.  1.]\n",
      " [ 1.  0.  2.  0.  0.  0.  1.  0.]\n",
      " [ 0.  1.  3.  0.  0.  0.  0.  0.]\n",
      " [ 1.  0.  1.  1.  1.  0.  0.  0.]\n",
      " [ 1.  1.  0.  0.  1.  0.  0.  1.]\n",
      " [ 1.  0.  1.  0.  2.  0.  0.  0.]\n",
      " [ 1.  0.  1.  1.  1.  0.  0.  0.]\n",
      " [ 0.  1.  3.  2.  0.  0.  0.  0.]\n",
      " [ 0.  0.  5.  0.  0.  0.  1.  0.]\n",
      " [ 0.  0.  4.  1.  1.  0.  0.  0.]\n",
      " [ 0.  0.  0.  0.  2.  3.  1.  0.]\n",
      " [ 1.  0.  4.  0.  1.  0.  0.  0.]\n",
      " [ 0.  0.  3.  2.  0.  1.  0.  0.]\n",
      " [ 0.  0.  4.  0.  0.  1.  0.  1.]\n",
      " [ 1.  0.  3.  1.  0.  0.  1.  0.]\n",
      " [ 1.  0.  4.  1.  0.  0.  0.  0.]\n",
      " [ 0.  4.  3.  1.  0.  4.  0.  0.]\n",
      " [ 0.  3.  5.  2.  1.  1.  0.  0.]\n",
      " [ 0.  0.  8.  0.  2.  2.  0.  0.]\n",
      " [ 1.  1.  6.  2.  2.  0.  0.  0.]\n",
      " [ 0.  1.  5.  2.  3.  0.  1.  0.]\n",
      " [ 6.  1.  1.  2.  1.  1.  0.  0.]\n",
      " [ 3.  2.  3.  3.  0.  0.  1.  0.]\n",
      " [ 2.  0.  3.  2.  0.  2.  1.  2.]\n",
      " [ 2.  5.  0.  5.  0.  0.  0.  0.]\n",
      " [10.  0. 10.  5.  0.  2.  0.  1.]\n",
      " [ 6. 11.  6.  2.  2.  1.  0.  0.]\n",
      " [ 6. 13.  4.  4.  0.  1.  0.  0.]\n",
      " [ 5. 10. 10.  2.  0.  1.  0.  0.]\n",
      " [ 5. 11.  7.  1.  2.  2.  0.  0.]\n",
      " [ 4.  8.  7.  4.  3.  0.  2.  0.]\n",
      " [ 3. 10.  7.  4.  3.  0.  0.  1.]\n",
      " [ 5.  6.  8.  2.  3.  3.  0.  1.]\n",
      " [ 8. 10.  0.  9.  1.  0.  0.  0.]\n",
      " [13.  0.  4.  2.  0.  2.  0.  0.]\n",
      " [ 1. 12.  3.  2.  2.  0.  0.  1.]\n",
      " [ 6.  2.  3.  7.  1.  0.  1.  1.]\n",
      " [ 8.  5.  4.  2.  0.  1.  0.  1.]\n",
      " [10.  3.  1.  3.  2.  1.  0.  1.]\n",
      " [10.  4.  3.  2.  1.  0.  0.  1.]\n",
      " [ 9.  5.  1.  3.  1.  1.  0.  1.]\n",
      " [ 9.  5.  1.  2.  2.  2.  0.  0.]\n",
      " [ 9.  0.  6.  4.  2.  0.  0.  0.]\n",
      " [ 0. 11.  0.  6.  0.  0.  0.  1.]\n",
      " [ 2.  4.  0.  6.  0.  0.  2.  4.]\n",
      " [ 5.  1.  0. 10.  0.  0.  2.  0.]\n",
      " [ 2.  3.  0.  8.  0.  0.  4.  1.]\n",
      " [ 7.  3.  0.  7.  0.  0.  0.  1.]\n",
      " [ 2.  3.  0. 10.  0.  0.  3.  0.]\n",
      " [ 5.  4.  0.  7.  0.  0.  1.  1.]\n",
      " [ 7.  6.  0.  4.  0.  0.  1.  0.]\n",
      " [ 7.  0.  0.  9.  0.  0.  2.  0.]]\n"
     ]
    }
   ],
   "source": [
    "matrix_from_survey = np.zeros((81, 8))\n",
    "\n",
    "for row in my_data[1:]:\n",
    "    for index,action in enumerate(row):\n",
    "        if action.is_integer():\n",
    "            #next_s = compute_next_state(index-1,int(action-1))\n",
    "            #print(index-1,action-1)\n",
    "            matrix_from_survey[index-1][int(action-1)] += 1\n",
    "\n",
    "print(matrix_from_survey)"
   ]
  },
  {
   "cell_type": "code",
   "execution_count": 128,
   "metadata": {},
   "outputs": [],
   "source": [
    "new_matrix = np.reshape(matrix_from_survey, (9,9))"
   ]
  },
  {
   "cell_type": "code",
   "execution_count": 138,
   "metadata": {},
   "outputs": [
    {
     "data": {
      "text/plain": [
       "array([0.    , 0.    , 0.    , 0.    , 0.    , 0.    , 0.    , 0.    ,\n",
       "       0.    , 0.    , 0.    , 0.    , 0.    , 0.    , 0.    , 0.    ,\n",
       "       0.    , 0.    , 0.    , 0.    , 0.    , 0.    , 0.    , 0.    ,\n",
       "       0.    , 0.    , 0.    , 0.    , 0.    , 0.    , 0.    , 0.    ,\n",
       "       0.    , 0.    , 0.    , 0.    , 0.    , 0.    , 0.    , 0.    ,\n",
       "       0.    , 0.    , 0.    , 0.    , 0.    , 0.    , 0.    , 0.    ,\n",
       "       0.    , 0.    , 0.    , 0.    , 0.    , 0.    , 0.    , 0.    ,\n",
       "       0.    , 0.    , 0.    , 0.    , 0.    , 0.    , 0.    , 0.    ,\n",
       "       0.    , 0.    , 0.    , 0.    , 0.    , 0.    , 0.0125, 0.0125,\n",
       "       0.    , 0.    , 0.    , 0.    , 0.    , 0.    , 0.    , 0.9125,\n",
       "       0.0625])"
      ]
     },
     "execution_count": 138,
     "metadata": {},
     "output_type": "execute_result"
    }
   ],
   "source": [
    "n.world.p_transition[80,:,0]"
   ]
  },
  {
   "cell_type": "code",
   "execution_count": 213,
   "metadata": {},
   "outputs": [
    {
     "name": "stdout",
     "output_type": "stream",
     "text": [
      "[2. 4. 3. 0. 3. 2. 0. 0.] [LEFT, RIGHT, UP, DOWN, UP_LEFT, UP_RIGHT, DOWN_LEFT, DOWN_RIGHT] 1\n"
     ]
    },
    {
     "data": {
      "text/plain": [
       "1"
      ]
     },
     "execution_count": 213,
     "metadata": {},
     "output_type": "execute_result"
    }
   ],
   "source": [
    "print(matrix_from_survey[7], Directions.ALL_DIRECTIONS, np.argmax(matrix_from_survey[7]))\n",
    "Directions.ALL_DIRECTIONS\n",
    "\n",
    "random.choice(np.argwhere(matrix_from_survey[7] == np.amax(matrix_from_survey[7])))[0]"
   ]
  },
  {
   "cell_type": "code",
   "execution_count": 220,
   "metadata": {},
   "outputs": [
    {
     "name": "stdout",
     "output_type": "stream",
     "text": [
      "[5. 0. 5. 0. 4. 0. 0. 0.]\n",
      "0\n",
      "[5. 0. 5. 0. 4. 0. 0. 0.]\n",
      "2\n"
     ]
    }
   ],
   "source": [
    "print(policy_survey(matrix_from_survey[8]))\n",
    "print(policy_stochastic_survey(matrix_from_survey[8]))"
   ]
  },
  {
   "cell_type": "code",
   "execution_count": 225,
   "metadata": {},
   "outputs": [
    {
     "name": "stdout",
     "output_type": "stream",
     "text": [
      "{'vmin': -50, 'vmax': 10, 'cmap': <matplotlib.colors.LinearSegmentedColormap object at 0x10baa41d0>}\n"
     ]
    },
    {
     "data": {
      "image/png": "[encoded data removed]",
      "text/plain": [
       "<Figure size 324x216 with 3 Axes>"
      ]
     },
     "metadata": {
      "needs_background": "light"
     },
     "output_type": "display_data"
    }
   ],
   "source": [
    "import max_ent.gridworld.trajectory as T\n",
    "from max_ent.algorithms.gridworld_icrl import Demonstration\n",
    "\n",
    "demo_optimal_survey = T.generate_trajectories(200, n.world, policy_survey, n.start, n.terminal)\n",
    "demo_optimal_survey = Demonstration(demo_optimal_survey, policy_survey)\n",
    "f1 = G.plot_world(f'MCA', c, c_cfg.state_penalties, \n",
    "              c_cfg.action_penalties, c_cfg.color_penalties, \n",
    "              demo_optimal_survey, c_cfg.blue, c_cfg.green, vmin=-50, vmax=10)"
   ]
  },
  {
   "cell_type": "code",
   "execution_count": 226,
   "metadata": {},
   "outputs": [
    {
     "name": "stdout",
     "output_type": "stream",
     "text": [
      "{'vmin': -50, 'vmax': 10, 'cmap': <matplotlib.colors.LinearSegmentedColormap object at 0x10baa41d0>}\n"
     ]
    },
    {
     "data": {
      "image/png": "[encoded data removed]",
      "text/plain": [
       "<Figure size 324x216 with 3 Axes>"
      ]
     },
     "metadata": {
      "needs_background": "light"
     },
     "output_type": "display_data"
    }
   ],
   "source": [
    "\n",
    "demo_stochastic_survey = T.generate_trajectories(200, n.world, policy_stochastic_survey, n.start, n.terminal)\n",
    "demo_stochastic_survey = Demonstration(demo_stochastic_survey, policy_stochastic_survey)\n",
    "f1 = G.plot_world(f'MCA', c, c_cfg.state_penalties, \n",
    "              c_cfg.action_penalties, c_cfg.color_penalties, \n",
    "              demo_stochastic_survey, c_cfg.blue, c_cfg.green, vmin=-50, vmax=10)"
   ]
  },
  {
   "cell_type": "code",
   "execution_count": 20,
   "metadata": {},
   "outputs": [
    {
     "data": {
      "text/plain": [
       "(81, 81, 8)"
      ]
     },
     "execution_count": 20,
     "metadata": {},
     "output_type": "execute_result"
    }
   ],
   "source": [
    "n.world.p_transition.shape"
   ]
  },
  {
   "cell_type": "code",
   "execution_count": 127,
   "metadata": {},
   "outputs": [
    {
     "data": {
      "text/plain": [
       "[[0.0, 2.0, 1.0, 1.0, 0.0, 0.0, 0.0, 0.0, 0.0],\n",
       " [0.0, 0.0, 35.0, 8.0, 4.0, 1.0, 1.0, 0, 0.0],\n",
       " [3.0, 37.0, 149.0, 57.0, 20.0, 7.0, 3.0, 0.0, 0.0],\n",
       " [2.0, 11.0, 56.0, 110.0, 65.0, 14.0, 9.0, 1.0, 0.0],\n",
       " [2.0, 2.0, 19.0, 63.0, 104.0, 65.0, 21.0, 5.0, 1.0],\n",
       " [0.0, 1.0, 5.0, 22.0, 72.0, 97.0, 75.0, 19.0, 1.0],\n",
       " [0.0, 0.0, 0.0, 11.0, 34.0, 79.0, 126.0, 76.0, 7.0],\n",
       " [0.0, 0.0, 0.0, 2.0, 12.0, 23.0, 88.0, 0, 17.0],\n",
       " [0.0, 0.0, 0.0, 0.0, 7.0, 9.0, 15.0, 0, 12.0]]"
      ]
     },
     "execution_count": 127,
     "metadata": {},
     "output_type": "execute_result"
    }
   ],
   "source": [
    "Z"
   ]
  },
  {
   "cell_type": "code",
   "execution_count": 64,
   "metadata": {},
   "outputs": [
    {
     "name": "stdout",
     "output_type": "stream",
     "text": [
      "7\n"
     ]
    },
    {
     "data": {
      "text/plain": [
       "[[0.0, 2.0, 1.0, 1.0, 0.0, 0.0, 0.0, 0.0, 0.0],\n",
       " [0.0, 0.0, 35.0, 8.0, 4.0, 1.0, 1.0, 0, 0.0],\n",
       " [3.0, 37.0, 149.0, 57.0, 20.0, 7.0, 3.0, 0.0, 0.0],\n",
       " [2.0, 11.0, 56.0, 110.0, 65.0, 14.0, 9.0, 1.0, 0.0],\n",
       " [2.0, 2.0, 19.0, 63.0, 104.0, 65.0, 21.0, 5.0, 1.0],\n",
       " [0.0, 1.0, 5.0, 22.0, 72.0, 97.0, 75.0, 19.0, 1.0],\n",
       " [0.0, 0.0, 0.0, 11.0, 34.0, 79.0, 126.0, 76.0, 7.0],\n",
       " [0.0, 0.0, 0.0, 2.0, 12.0, 23.0, 88.0, 0, 17.0],\n",
       " [0.0, 0.0, 0.0, 0.0, 7.0, 9.0, 15.0, 0, 12.0]]"
      ]
     },
     "execution_count": 64,
     "metadata": {},
     "output_type": "execute_result"
    }
   ],
   "source": [
    "#Z_distr = Z\n",
    "print(int(start%9))\n",
    "Z_distr[8-int(start/9)][int(start%9)]=0\n",
    "Z_distr[8-int(goal/9)][int(goal%9)]\n",
    "\n",
    "Z_distr"
   ]
  },
  {
   "cell_type": "code",
   "execution_count": 63,
   "metadata": {},
   "outputs": [
    {
     "data": {
      "image/png": "[encoded data removed]",
      "text/plain": [
       "<Figure size 432x288 with 1 Axes>"
      ]
     },
     "metadata": {
      "needs_background": "light"
     },
     "output_type": "display_data"
    }
   ],
   "source": [
    "plt.imshow(Z_distr, cmap='hot', interpolation='nearest')\n",
    "plt.show()"
   ]
  },
  {
   "cell_type": "code",
   "execution_count": 108,
   "metadata": {},
   "outputs": [
    {
     "data": {
      "image/png": "[encoded data removed]",
      "text/plain": [
       "<Figure size 432x288 with 1 Axes>"
      ]
     },
     "metadata": {
      "needs_background": "light"
     },
     "output_type": "display_data"
    }
   ],
   "source": [
    "from scipy.special import softmax\n",
    "\n",
    "np.set_printoptions(precision=3)\n",
    "'''Z_distr = Z\n",
    "Z_distr = np.array(Z_distr)\n",
    "Z_distr = Z_distr + 1E-3'''\n",
    "\n",
    "plt.imshow(distr, cmap='hot', interpolation='nearest')\n",
    "plt.show()\n",
    "\n",
    "#Z_distr/np.sum(Z_distr)\n"
   ]
  },
  {
   "cell_type": "code",
   "execution_count": 102,
   "metadata": {},
   "outputs": [
    {
     "data": {
      "text/plain": [
       "array([30, 32, 33, 49, 21, 60, 52, 51, 20, 59, 69, 48, 57,  2, 38, 40, 61,\n",
       "       67, 50, 31, 29, 58, 11, 39])"
      ]
     },
     "execution_count": 102,
     "metadata": {},
     "output_type": "execute_result"
    }
   ],
   "source": [
    "distr = np.array(Z_distr/np.sum(Z_distr))\n",
    "\n",
    "\n"
   ]
  },
  {
   "cell_type": "code",
   "execution_count": 124,
   "metadata": {
    "scrolled": true
   },
   "outputs": [
    {
     "name": "stdout",
     "output_type": "stream",
     "text": [
      "[47 19 41 40 20 32 48 49 58 42 69 29]\n",
      "[0.962 0.062 0.062 0.962 0.962 0.062 0.962 0.963]\n",
      "{'vmin': -50, 'vmax': 10, 'cmap': <matplotlib.colors.LinearSegmentedColormap object at 0x1103bf400>}\n"
     ]
    },
    {
     "data": {
      "image/png": "[encoded data removed]",
      "text/plain": [
       "<Figure size 324x216 with 3 Axes>"
      ]
     },
     "metadata": {
      "needs_background": "light"
     },
     "output_type": "display_data"
    }
   ],
   "source": [
    "cs = np.random.choice(np.arange(0,81), replace=False, p = distr.flatten(), size=12)\n",
    "blue = []\n",
    "green =[]\n",
    "print(cs)\n",
    "c, c_cfg, demo_c, f2 = create_world('Constrained', blue, green, cs, ca, cc, start=start, goal=goal, check=True)"
   ]
  },
  {
   "cell_type": "code",
   "execution_count": 126,
   "metadata": {},
   "outputs": [
    {
     "name": "stdout",
     "output_type": "stream",
     "text": [
      "[[5.920e-07 1.185e-03 5.926e-04 5.926e-04 5.920e-07 5.920e-07 5.920e-07\n",
      "  5.920e-07 5.920e-07]\n",
      " [5.920e-07 5.920e-07 2.072e-02 4.737e-03 2.369e-03 5.926e-04 5.926e-04\n",
      "  5.920e-07 5.920e-07]\n",
      " [1.777e-03 2.191e-02 8.821e-02 3.375e-02 1.184e-02 4.145e-03 1.777e-03\n",
      "  5.920e-07 5.920e-07]\n",
      " [1.185e-03 6.513e-03 3.315e-02 6.512e-02 3.848e-02 8.289e-03 5.329e-03\n",
      "  5.926e-04 5.920e-07]\n",
      " [1.185e-03 1.185e-03 1.125e-02 3.730e-02 6.157e-02 3.848e-02 1.243e-02\n",
      "  2.961e-03 5.926e-04]\n",
      " [5.920e-07 5.926e-04 2.961e-03 1.303e-02 4.263e-02 5.743e-02 4.440e-02\n",
      "  1.125e-02 5.926e-04]\n",
      " [5.920e-07 5.920e-07 5.920e-07 6.513e-03 2.013e-02 4.677e-02 7.460e-02\n",
      "  4.500e-02 4.145e-03]\n",
      " [5.920e-07 5.920e-07 5.920e-07 1.185e-03 7.105e-03 1.362e-02 5.210e-02\n",
      "  5.920e-07 1.007e-02]\n",
      " [5.920e-07 5.920e-07 5.920e-07 5.920e-07 4.145e-03 5.329e-03 8.881e-03\n",
      "  5.920e-07 7.105e-03]]\n"
     ]
    }
   ],
   "source": [
    "np.set_printoptions(precision=3)\n",
    "print(distr)"
   ]
  },
  {
   "cell_type": "code",
   "execution_count": 121,
   "metadata": {},
   "outputs": [
    {
     "data": {
      "text/plain": [
       "array([5.920e-07, 1.185e-03, 5.926e-04, 5.926e-04, 5.920e-07, 5.920e-07,\n",
       "       5.920e-07, 5.920e-07, 5.920e-07, 5.920e-07, 5.920e-07, 2.072e-02,\n",
       "       4.737e-03, 2.369e-03, 5.926e-04, 5.926e-04, 5.920e-07, 5.920e-07,\n",
       "       1.777e-03, 2.191e-02, 8.821e-02, 3.375e-02, 1.184e-02, 4.145e-03,\n",
       "       1.777e-03, 5.920e-07, 5.920e-07, 1.185e-03, 6.513e-03, 3.315e-02,\n",
       "       6.512e-02, 3.848e-02, 8.289e-03, 5.329e-03, 5.926e-04, 5.920e-07,\n",
       "       1.185e-03, 1.185e-03, 1.125e-02, 3.730e-02, 6.157e-02, 3.848e-02,\n",
       "       1.243e-02, 2.961e-03, 5.926e-04, 5.920e-07, 5.926e-04, 2.961e-03,\n",
       "       1.303e-02, 4.263e-02, 5.743e-02, 4.440e-02, 1.125e-02, 5.926e-04,\n",
       "       5.920e-07, 5.920e-07, 5.920e-07, 6.513e-03, 2.013e-02, 4.677e-02,\n",
       "       7.460e-02, 4.500e-02, 4.145e-03, 5.920e-07, 5.920e-07, 5.920e-07,\n",
       "       1.185e-03, 7.105e-03, 1.362e-02, 5.210e-02, 5.920e-07, 1.007e-02,\n",
       "       5.920e-07, 5.920e-07, 5.920e-07, 5.920e-07, 4.145e-03, 5.329e-03,\n",
       "       8.881e-03, 5.920e-07, 7.105e-03])"
      ]
     },
     "execution_count": 121,
     "metadata": {},
     "output_type": "execute_result"
    }
   ],
   "source": [
    "distr.flatten()"
   ]
  },
  {
   "cell_type": "code",
   "execution_count": 110,
   "metadata": {},
   "outputs": [
    {
     "data": {
      "text/plain": [
       "array([1, 2, 3, 4])"
      ]
     },
     "execution_count": 110,
     "metadata": {},
     "output_type": "execute_result"
    }
   ],
   "source": [
    "a.flatten()"
   ]
  },
  {
   "cell_type": "code",
   "execution_count": 111,
   "metadata": {},
   "outputs": [
    {
     "data": {
      "text/plain": [
       "array([[1, 3],\n",
       "       [2, 4]])"
      ]
     },
     "execution_count": 111,
     "metadata": {},
     "output_type": "execute_result"
    }
   ],
   "source": [
    "a.T"
   ]
  },
  {
   "cell_type": "code",
   "execution_count": null,
   "metadata": {},
   "outputs": [],
   "source": []
  }
 ],
 "metadata": {
  "kernelspec": {
   "display_name": "Python 3",
   "language": "python",
   "name": "python3"
  },
  "language_info": {
   "codemirror_mode": {
    "name": "ipython",
    "version": 3
   },
   "file_extension": ".py",
   "mimetype": "text/x-python",
   "name": "python",
   "nbconvert_exporter": "python",
   "pygments_lexer": "ipython3",
   "version": "3.7.3"
  }
 },
 "nbformat": 4,
 "nbformat_minor": 2
}
